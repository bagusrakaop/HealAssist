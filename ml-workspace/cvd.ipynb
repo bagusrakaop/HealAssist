{
 "cells": [
  {
   "cell_type": "markdown",
   "metadata": {},
   "source": [
    "# Dataset Checking and Cleaning"
   ]
  },
  {
   "cell_type": "markdown",
   "metadata": {},
   "source": [
    "The dataset used in this project is survey data from BRFSS in 2021. This BRFSS dataset contains 438,693 records. We only take a few variables in this dataset that are related to a person's lifestyle and its relationship with any cardiovascular disease. This dataset is originally in SAS Transport Formats. We converted it from SAS Transport Formats data to csv to make it lighter and easier to use.\n",
    "\n",
    "The method of retrieving this dataset was inspired by [1] which also retrieved data from BRFSS to examine its relationship with cardiovascular disease. However, we customized the variables used. There are some variables that we added or subtracted from reference [1]. Furthermore, to understand the meaning of each variable code, we read the more detailed questionnaire in [2](https://www.cdc.gov/brfss/questionnaires/pdf-ques/2021-BRFSS-Questionnaire-1-19-2022-508.pdf). \n",
    "\n",
    "[1] Lupague R.M.J.M., Mabborang R.C., Bansil A.G., Lupague M.M. (2023) Integrated Machine Learning Model for Comprehensive Heart Disease Risk Assessment Based on Multi-Dimensional Health Factors, European Journal of Computer Science and Information Technology, 11 (3), 44-58"
   ]
  },
  {
   "cell_type": "markdown",
   "metadata": {},
   "source": [
    "## Import SAS XPT data to Pandas DataFrame"
   ]
  },
  {
   "cell_type": "code",
   "execution_count": 25,
   "metadata": {},
   "outputs": [
    {
     "name": "stderr",
     "output_type": "stream",
     "text": [
      "C:\\Users\\Bagus_Raka\\AppData\\Local\\Temp\\ipykernel_3992\\3495794759.py:3: PerformanceWarning: DataFrame is highly fragmented.  This is usually the result of calling `frame.insert` many times, which has poor performance.  Consider joining all columns at once using pd.concat(axis=1) instead. To get a de-fragmented frame, use `newframe = frame.copy()`\n",
      "  df = pd.read_sas(\"./dataset/LLCP2021.XPT\")\n",
      "C:\\Users\\Bagus_Raka\\AppData\\Local\\Temp\\ipykernel_3992\\3495794759.py:3: PerformanceWarning: DataFrame is highly fragmented.  This is usually the result of calling `frame.insert` many times, which has poor performance.  Consider joining all columns at once using pd.concat(axis=1) instead. To get a de-fragmented frame, use `newframe = frame.copy()`\n",
      "  df = pd.read_sas(\"./dataset/LLCP2021.XPT\")\n",
      "C:\\Users\\Bagus_Raka\\AppData\\Local\\Temp\\ipykernel_3992\\3495794759.py:3: PerformanceWarning: DataFrame is highly fragmented.  This is usually the result of calling `frame.insert` many times, which has poor performance.  Consider joining all columns at once using pd.concat(axis=1) instead. To get a de-fragmented frame, use `newframe = frame.copy()`\n",
      "  df = pd.read_sas(\"./dataset/LLCP2021.XPT\")\n",
      "C:\\Users\\Bagus_Raka\\AppData\\Local\\Temp\\ipykernel_3992\\3495794759.py:3: PerformanceWarning: DataFrame is highly fragmented.  This is usually the result of calling `frame.insert` many times, which has poor performance.  Consider joining all columns at once using pd.concat(axis=1) instead. To get a de-fragmented frame, use `newframe = frame.copy()`\n",
      "  df = pd.read_sas(\"./dataset/LLCP2021.XPT\")\n",
      "C:\\Users\\Bagus_Raka\\AppData\\Local\\Temp\\ipykernel_3992\\3495794759.py:3: PerformanceWarning: DataFrame is highly fragmented.  This is usually the result of calling `frame.insert` many times, which has poor performance.  Consider joining all columns at once using pd.concat(axis=1) instead. To get a de-fragmented frame, use `newframe = frame.copy()`\n",
      "  df = pd.read_sas(\"./dataset/LLCP2021.XPT\")\n",
      "C:\\Users\\Bagus_Raka\\AppData\\Local\\Temp\\ipykernel_3992\\3495794759.py:3: PerformanceWarning: DataFrame is highly fragmented.  This is usually the result of calling `frame.insert` many times, which has poor performance.  Consider joining all columns at once using pd.concat(axis=1) instead. To get a de-fragmented frame, use `newframe = frame.copy()`\n",
      "  df = pd.read_sas(\"./dataset/LLCP2021.XPT\")\n",
      "C:\\Users\\Bagus_Raka\\AppData\\Local\\Temp\\ipykernel_3992\\3495794759.py:3: PerformanceWarning: DataFrame is highly fragmented.  This is usually the result of calling `frame.insert` many times, which has poor performance.  Consider joining all columns at once using pd.concat(axis=1) instead. To get a de-fragmented frame, use `newframe = frame.copy()`\n",
      "  df = pd.read_sas(\"./dataset/LLCP2021.XPT\")\n",
      "C:\\Users\\Bagus_Raka\\AppData\\Local\\Temp\\ipykernel_3992\\3495794759.py:3: PerformanceWarning: DataFrame is highly fragmented.  This is usually the result of calling `frame.insert` many times, which has poor performance.  Consider joining all columns at once using pd.concat(axis=1) instead. To get a de-fragmented frame, use `newframe = frame.copy()`\n",
      "  df = pd.read_sas(\"./dataset/LLCP2021.XPT\")\n",
      "C:\\Users\\Bagus_Raka\\AppData\\Local\\Temp\\ipykernel_3992\\3495794759.py:3: PerformanceWarning: DataFrame is highly fragmented.  This is usually the result of calling `frame.insert` many times, which has poor performance.  Consider joining all columns at once using pd.concat(axis=1) instead. To get a de-fragmented frame, use `newframe = frame.copy()`\n",
      "  df = pd.read_sas(\"./dataset/LLCP2021.XPT\")\n",
      "C:\\Users\\Bagus_Raka\\AppData\\Local\\Temp\\ipykernel_3992\\3495794759.py:3: PerformanceWarning: DataFrame is highly fragmented.  This is usually the result of calling `frame.insert` many times, which has poor performance.  Consider joining all columns at once using pd.concat(axis=1) instead. To get a de-fragmented frame, use `newframe = frame.copy()`\n",
      "  df = pd.read_sas(\"./dataset/LLCP2021.XPT\")\n",
      "C:\\Users\\Bagus_Raka\\AppData\\Local\\Temp\\ipykernel_3992\\3495794759.py:3: PerformanceWarning: DataFrame is highly fragmented.  This is usually the result of calling `frame.insert` many times, which has poor performance.  Consider joining all columns at once using pd.concat(axis=1) instead. To get a de-fragmented frame, use `newframe = frame.copy()`\n",
      "  df = pd.read_sas(\"./dataset/LLCP2021.XPT\")\n",
      "C:\\Users\\Bagus_Raka\\AppData\\Local\\Temp\\ipykernel_3992\\3495794759.py:3: PerformanceWarning: DataFrame is highly fragmented.  This is usually the result of calling `frame.insert` many times, which has poor performance.  Consider joining all columns at once using pd.concat(axis=1) instead. To get a de-fragmented frame, use `newframe = frame.copy()`\n",
      "  df = pd.read_sas(\"./dataset/LLCP2021.XPT\")\n",
      "C:\\Users\\Bagus_Raka\\AppData\\Local\\Temp\\ipykernel_3992\\3495794759.py:3: PerformanceWarning: DataFrame is highly fragmented.  This is usually the result of calling `frame.insert` many times, which has poor performance.  Consider joining all columns at once using pd.concat(axis=1) instead. To get a de-fragmented frame, use `newframe = frame.copy()`\n",
      "  df = pd.read_sas(\"./dataset/LLCP2021.XPT\")\n",
      "C:\\Users\\Bagus_Raka\\AppData\\Local\\Temp\\ipykernel_3992\\3495794759.py:3: PerformanceWarning: DataFrame is highly fragmented.  This is usually the result of calling `frame.insert` many times, which has poor performance.  Consider joining all columns at once using pd.concat(axis=1) instead. To get a de-fragmented frame, use `newframe = frame.copy()`\n",
      "  df = pd.read_sas(\"./dataset/LLCP2021.XPT\")\n",
      "C:\\Users\\Bagus_Raka\\AppData\\Local\\Temp\\ipykernel_3992\\3495794759.py:3: PerformanceWarning: DataFrame is highly fragmented.  This is usually the result of calling `frame.insert` many times, which has poor performance.  Consider joining all columns at once using pd.concat(axis=1) instead. To get a de-fragmented frame, use `newframe = frame.copy()`\n",
      "  df = pd.read_sas(\"./dataset/LLCP2021.XPT\")\n",
      "C:\\Users\\Bagus_Raka\\AppData\\Local\\Temp\\ipykernel_3992\\3495794759.py:3: PerformanceWarning: DataFrame is highly fragmented.  This is usually the result of calling `frame.insert` many times, which has poor performance.  Consider joining all columns at once using pd.concat(axis=1) instead. To get a de-fragmented frame, use `newframe = frame.copy()`\n",
      "  df = pd.read_sas(\"./dataset/LLCP2021.XPT\")\n",
      "C:\\Users\\Bagus_Raka\\AppData\\Local\\Temp\\ipykernel_3992\\3495794759.py:3: PerformanceWarning: DataFrame is highly fragmented.  This is usually the result of calling `frame.insert` many times, which has poor performance.  Consider joining all columns at once using pd.concat(axis=1) instead. To get a de-fragmented frame, use `newframe = frame.copy()`\n",
      "  df = pd.read_sas(\"./dataset/LLCP2021.XPT\")\n",
      "C:\\Users\\Bagus_Raka\\AppData\\Local\\Temp\\ipykernel_3992\\3495794759.py:3: PerformanceWarning: DataFrame is highly fragmented.  This is usually the result of calling `frame.insert` many times, which has poor performance.  Consider joining all columns at once using pd.concat(axis=1) instead. To get a de-fragmented frame, use `newframe = frame.copy()`\n",
      "  df = pd.read_sas(\"./dataset/LLCP2021.XPT\")\n",
      "C:\\Users\\Bagus_Raka\\AppData\\Local\\Temp\\ipykernel_3992\\3495794759.py:3: PerformanceWarning: DataFrame is highly fragmented.  This is usually the result of calling `frame.insert` many times, which has poor performance.  Consider joining all columns at once using pd.concat(axis=1) instead. To get a de-fragmented frame, use `newframe = frame.copy()`\n",
      "  df = pd.read_sas(\"./dataset/LLCP2021.XPT\")\n",
      "C:\\Users\\Bagus_Raka\\AppData\\Local\\Temp\\ipykernel_3992\\3495794759.py:3: PerformanceWarning: DataFrame is highly fragmented.  This is usually the result of calling `frame.insert` many times, which has poor performance.  Consider joining all columns at once using pd.concat(axis=1) instead. To get a de-fragmented frame, use `newframe = frame.copy()`\n",
      "  df = pd.read_sas(\"./dataset/LLCP2021.XPT\")\n",
      "C:\\Users\\Bagus_Raka\\AppData\\Local\\Temp\\ipykernel_3992\\3495794759.py:3: PerformanceWarning: DataFrame is highly fragmented.  This is usually the result of calling `frame.insert` many times, which has poor performance.  Consider joining all columns at once using pd.concat(axis=1) instead. To get a de-fragmented frame, use `newframe = frame.copy()`\n",
      "  df = pd.read_sas(\"./dataset/LLCP2021.XPT\")\n",
      "C:\\Users\\Bagus_Raka\\AppData\\Local\\Temp\\ipykernel_3992\\3495794759.py:3: PerformanceWarning: DataFrame is highly fragmented.  This is usually the result of calling `frame.insert` many times, which has poor performance.  Consider joining all columns at once using pd.concat(axis=1) instead. To get a de-fragmented frame, use `newframe = frame.copy()`\n",
      "  df = pd.read_sas(\"./dataset/LLCP2021.XPT\")\n",
      "C:\\Users\\Bagus_Raka\\AppData\\Local\\Temp\\ipykernel_3992\\3495794759.py:3: PerformanceWarning: DataFrame is highly fragmented.  This is usually the result of calling `frame.insert` many times, which has poor performance.  Consider joining all columns at once using pd.concat(axis=1) instead. To get a de-fragmented frame, use `newframe = frame.copy()`\n",
      "  df = pd.read_sas(\"./dataset/LLCP2021.XPT\")\n",
      "C:\\Users\\Bagus_Raka\\AppData\\Local\\Temp\\ipykernel_3992\\3495794759.py:3: PerformanceWarning: DataFrame is highly fragmented.  This is usually the result of calling `frame.insert` many times, which has poor performance.  Consider joining all columns at once using pd.concat(axis=1) instead. To get a de-fragmented frame, use `newframe = frame.copy()`\n",
      "  df = pd.read_sas(\"./dataset/LLCP2021.XPT\")\n",
      "C:\\Users\\Bagus_Raka\\AppData\\Local\\Temp\\ipykernel_3992\\3495794759.py:3: PerformanceWarning: DataFrame is highly fragmented.  This is usually the result of calling `frame.insert` many times, which has poor performance.  Consider joining all columns at once using pd.concat(axis=1) instead. To get a de-fragmented frame, use `newframe = frame.copy()`\n",
      "  df = pd.read_sas(\"./dataset/LLCP2021.XPT\")\n",
      "C:\\Users\\Bagus_Raka\\AppData\\Local\\Temp\\ipykernel_3992\\3495794759.py:3: PerformanceWarning: DataFrame is highly fragmented.  This is usually the result of calling `frame.insert` many times, which has poor performance.  Consider joining all columns at once using pd.concat(axis=1) instead. To get a de-fragmented frame, use `newframe = frame.copy()`\n",
      "  df = pd.read_sas(\"./dataset/LLCP2021.XPT\")\n",
      "C:\\Users\\Bagus_Raka\\AppData\\Local\\Temp\\ipykernel_3992\\3495794759.py:3: PerformanceWarning: DataFrame is highly fragmented.  This is usually the result of calling `frame.insert` many times, which has poor performance.  Consider joining all columns at once using pd.concat(axis=1) instead. To get a de-fragmented frame, use `newframe = frame.copy()`\n",
      "  df = pd.read_sas(\"./dataset/LLCP2021.XPT\")\n",
      "C:\\Users\\Bagus_Raka\\AppData\\Local\\Temp\\ipykernel_3992\\3495794759.py:3: PerformanceWarning: DataFrame is highly fragmented.  This is usually the result of calling `frame.insert` many times, which has poor performance.  Consider joining all columns at once using pd.concat(axis=1) instead. To get a de-fragmented frame, use `newframe = frame.copy()`\n",
      "  df = pd.read_sas(\"./dataset/LLCP2021.XPT\")\n",
      "C:\\Users\\Bagus_Raka\\AppData\\Local\\Temp\\ipykernel_3992\\3495794759.py:3: PerformanceWarning: DataFrame is highly fragmented.  This is usually the result of calling `frame.insert` many times, which has poor performance.  Consider joining all columns at once using pd.concat(axis=1) instead. To get a de-fragmented frame, use `newframe = frame.copy()`\n",
      "  df = pd.read_sas(\"./dataset/LLCP2021.XPT\")\n",
      "C:\\Users\\Bagus_Raka\\AppData\\Local\\Temp\\ipykernel_3992\\3495794759.py:3: PerformanceWarning: DataFrame is highly fragmented.  This is usually the result of calling `frame.insert` many times, which has poor performance.  Consider joining all columns at once using pd.concat(axis=1) instead. To get a de-fragmented frame, use `newframe = frame.copy()`\n",
      "  df = pd.read_sas(\"./dataset/LLCP2021.XPT\")\n",
      "C:\\Users\\Bagus_Raka\\AppData\\Local\\Temp\\ipykernel_3992\\3495794759.py:3: PerformanceWarning: DataFrame is highly fragmented.  This is usually the result of calling `frame.insert` many times, which has poor performance.  Consider joining all columns at once using pd.concat(axis=1) instead. To get a de-fragmented frame, use `newframe = frame.copy()`\n",
      "  df = pd.read_sas(\"./dataset/LLCP2021.XPT\")\n",
      "C:\\Users\\Bagus_Raka\\AppData\\Local\\Temp\\ipykernel_3992\\3495794759.py:3: PerformanceWarning: DataFrame is highly fragmented.  This is usually the result of calling `frame.insert` many times, which has poor performance.  Consider joining all columns at once using pd.concat(axis=1) instead. To get a de-fragmented frame, use `newframe = frame.copy()`\n",
      "  df = pd.read_sas(\"./dataset/LLCP2021.XPT\")\n",
      "C:\\Users\\Bagus_Raka\\AppData\\Local\\Temp\\ipykernel_3992\\3495794759.py:3: PerformanceWarning: DataFrame is highly fragmented.  This is usually the result of calling `frame.insert` many times, which has poor performance.  Consider joining all columns at once using pd.concat(axis=1) instead. To get a de-fragmented frame, use `newframe = frame.copy()`\n",
      "  df = pd.read_sas(\"./dataset/LLCP2021.XPT\")\n",
      "C:\\Users\\Bagus_Raka\\AppData\\Local\\Temp\\ipykernel_3992\\3495794759.py:3: PerformanceWarning: DataFrame is highly fragmented.  This is usually the result of calling `frame.insert` many times, which has poor performance.  Consider joining all columns at once using pd.concat(axis=1) instead. To get a de-fragmented frame, use `newframe = frame.copy()`\n",
      "  df = pd.read_sas(\"./dataset/LLCP2021.XPT\")\n",
      "C:\\Users\\Bagus_Raka\\AppData\\Local\\Temp\\ipykernel_3992\\3495794759.py:3: PerformanceWarning: DataFrame is highly fragmented.  This is usually the result of calling `frame.insert` many times, which has poor performance.  Consider joining all columns at once using pd.concat(axis=1) instead. To get a de-fragmented frame, use `newframe = frame.copy()`\n",
      "  df = pd.read_sas(\"./dataset/LLCP2021.XPT\")\n",
      "C:\\Users\\Bagus_Raka\\AppData\\Local\\Temp\\ipykernel_3992\\3495794759.py:3: PerformanceWarning: DataFrame is highly fragmented.  This is usually the result of calling `frame.insert` many times, which has poor performance.  Consider joining all columns at once using pd.concat(axis=1) instead. To get a de-fragmented frame, use `newframe = frame.copy()`\n",
      "  df = pd.read_sas(\"./dataset/LLCP2021.XPT\")\n",
      "C:\\Users\\Bagus_Raka\\AppData\\Local\\Temp\\ipykernel_3992\\3495794759.py:3: PerformanceWarning: DataFrame is highly fragmented.  This is usually the result of calling `frame.insert` many times, which has poor performance.  Consider joining all columns at once using pd.concat(axis=1) instead. To get a de-fragmented frame, use `newframe = frame.copy()`\n",
      "  df = pd.read_sas(\"./dataset/LLCP2021.XPT\")\n",
      "C:\\Users\\Bagus_Raka\\AppData\\Local\\Temp\\ipykernel_3992\\3495794759.py:3: PerformanceWarning: DataFrame is highly fragmented.  This is usually the result of calling `frame.insert` many times, which has poor performance.  Consider joining all columns at once using pd.concat(axis=1) instead. To get a de-fragmented frame, use `newframe = frame.copy()`\n",
      "  df = pd.read_sas(\"./dataset/LLCP2021.XPT\")\n",
      "C:\\Users\\Bagus_Raka\\AppData\\Local\\Temp\\ipykernel_3992\\3495794759.py:3: PerformanceWarning: DataFrame is highly fragmented.  This is usually the result of calling `frame.insert` many times, which has poor performance.  Consider joining all columns at once using pd.concat(axis=1) instead. To get a de-fragmented frame, use `newframe = frame.copy()`\n",
      "  df = pd.read_sas(\"./dataset/LLCP2021.XPT\")\n",
      "C:\\Users\\Bagus_Raka\\AppData\\Local\\Temp\\ipykernel_3992\\3495794759.py:3: PerformanceWarning: DataFrame is highly fragmented.  This is usually the result of calling `frame.insert` many times, which has poor performance.  Consider joining all columns at once using pd.concat(axis=1) instead. To get a de-fragmented frame, use `newframe = frame.copy()`\n",
      "  df = pd.read_sas(\"./dataset/LLCP2021.XPT\")\n",
      "C:\\Users\\Bagus_Raka\\AppData\\Local\\Temp\\ipykernel_3992\\3495794759.py:3: PerformanceWarning: DataFrame is highly fragmented.  This is usually the result of calling `frame.insert` many times, which has poor performance.  Consider joining all columns at once using pd.concat(axis=1) instead. To get a de-fragmented frame, use `newframe = frame.copy()`\n",
      "  df = pd.read_sas(\"./dataset/LLCP2021.XPT\")\n",
      "C:\\Users\\Bagus_Raka\\AppData\\Local\\Temp\\ipykernel_3992\\3495794759.py:3: PerformanceWarning: DataFrame is highly fragmented.  This is usually the result of calling `frame.insert` many times, which has poor performance.  Consider joining all columns at once using pd.concat(axis=1) instead. To get a de-fragmented frame, use `newframe = frame.copy()`\n",
      "  df = pd.read_sas(\"./dataset/LLCP2021.XPT\")\n",
      "C:\\Users\\Bagus_Raka\\AppData\\Local\\Temp\\ipykernel_3992\\3495794759.py:3: PerformanceWarning: DataFrame is highly fragmented.  This is usually the result of calling `frame.insert` many times, which has poor performance.  Consider joining all columns at once using pd.concat(axis=1) instead. To get a de-fragmented frame, use `newframe = frame.copy()`\n",
      "  df = pd.read_sas(\"./dataset/LLCP2021.XPT\")\n",
      "C:\\Users\\Bagus_Raka\\AppData\\Local\\Temp\\ipykernel_3992\\3495794759.py:3: PerformanceWarning: DataFrame is highly fragmented.  This is usually the result of calling `frame.insert` many times, which has poor performance.  Consider joining all columns at once using pd.concat(axis=1) instead. To get a de-fragmented frame, use `newframe = frame.copy()`\n",
      "  df = pd.read_sas(\"./dataset/LLCP2021.XPT\")\n",
      "C:\\Users\\Bagus_Raka\\AppData\\Local\\Temp\\ipykernel_3992\\3495794759.py:3: PerformanceWarning: DataFrame is highly fragmented.  This is usually the result of calling `frame.insert` many times, which has poor performance.  Consider joining all columns at once using pd.concat(axis=1) instead. To get a de-fragmented frame, use `newframe = frame.copy()`\n",
      "  df = pd.read_sas(\"./dataset/LLCP2021.XPT\")\n",
      "C:\\Users\\Bagus_Raka\\AppData\\Local\\Temp\\ipykernel_3992\\3495794759.py:3: PerformanceWarning: DataFrame is highly fragmented.  This is usually the result of calling `frame.insert` many times, which has poor performance.  Consider joining all columns at once using pd.concat(axis=1) instead. To get a de-fragmented frame, use `newframe = frame.copy()`\n",
      "  df = pd.read_sas(\"./dataset/LLCP2021.XPT\")\n",
      "C:\\Users\\Bagus_Raka\\AppData\\Local\\Temp\\ipykernel_3992\\3495794759.py:3: PerformanceWarning: DataFrame is highly fragmented.  This is usually the result of calling `frame.insert` many times, which has poor performance.  Consider joining all columns at once using pd.concat(axis=1) instead. To get a de-fragmented frame, use `newframe = frame.copy()`\n",
      "  df = pd.read_sas(\"./dataset/LLCP2021.XPT\")\n",
      "C:\\Users\\Bagus_Raka\\AppData\\Local\\Temp\\ipykernel_3992\\3495794759.py:3: PerformanceWarning: DataFrame is highly fragmented.  This is usually the result of calling `frame.insert` many times, which has poor performance.  Consider joining all columns at once using pd.concat(axis=1) instead. To get a de-fragmented frame, use `newframe = frame.copy()`\n",
      "  df = pd.read_sas(\"./dataset/LLCP2021.XPT\")\n",
      "C:\\Users\\Bagus_Raka\\AppData\\Local\\Temp\\ipykernel_3992\\3495794759.py:3: PerformanceWarning: DataFrame is highly fragmented.  This is usually the result of calling `frame.insert` many times, which has poor performance.  Consider joining all columns at once using pd.concat(axis=1) instead. To get a de-fragmented frame, use `newframe = frame.copy()`\n",
      "  df = pd.read_sas(\"./dataset/LLCP2021.XPT\")\n",
      "C:\\Users\\Bagus_Raka\\AppData\\Local\\Temp\\ipykernel_3992\\3495794759.py:3: PerformanceWarning: DataFrame is highly fragmented.  This is usually the result of calling `frame.insert` many times, which has poor performance.  Consider joining all columns at once using pd.concat(axis=1) instead. To get a de-fragmented frame, use `newframe = frame.copy()`\n",
      "  df = pd.read_sas(\"./dataset/LLCP2021.XPT\")\n",
      "C:\\Users\\Bagus_Raka\\AppData\\Local\\Temp\\ipykernel_3992\\3495794759.py:3: PerformanceWarning: DataFrame is highly fragmented.  This is usually the result of calling `frame.insert` many times, which has poor performance.  Consider joining all columns at once using pd.concat(axis=1) instead. To get a de-fragmented frame, use `newframe = frame.copy()`\n",
      "  df = pd.read_sas(\"./dataset/LLCP2021.XPT\")\n",
      "C:\\Users\\Bagus_Raka\\AppData\\Local\\Temp\\ipykernel_3992\\3495794759.py:3: PerformanceWarning: DataFrame is highly fragmented.  This is usually the result of calling `frame.insert` many times, which has poor performance.  Consider joining all columns at once using pd.concat(axis=1) instead. To get a de-fragmented frame, use `newframe = frame.copy()`\n",
      "  df = pd.read_sas(\"./dataset/LLCP2021.XPT\")\n",
      "C:\\Users\\Bagus_Raka\\AppData\\Local\\Temp\\ipykernel_3992\\3495794759.py:3: PerformanceWarning: DataFrame is highly fragmented.  This is usually the result of calling `frame.insert` many times, which has poor performance.  Consider joining all columns at once using pd.concat(axis=1) instead. To get a de-fragmented frame, use `newframe = frame.copy()`\n",
      "  df = pd.read_sas(\"./dataset/LLCP2021.XPT\")\n",
      "C:\\Users\\Bagus_Raka\\AppData\\Local\\Temp\\ipykernel_3992\\3495794759.py:3: PerformanceWarning: DataFrame is highly fragmented.  This is usually the result of calling `frame.insert` many times, which has poor performance.  Consider joining all columns at once using pd.concat(axis=1) instead. To get a de-fragmented frame, use `newframe = frame.copy()`\n",
      "  df = pd.read_sas(\"./dataset/LLCP2021.XPT\")\n",
      "C:\\Users\\Bagus_Raka\\AppData\\Local\\Temp\\ipykernel_3992\\3495794759.py:3: PerformanceWarning: DataFrame is highly fragmented.  This is usually the result of calling `frame.insert` many times, which has poor performance.  Consider joining all columns at once using pd.concat(axis=1) instead. To get a de-fragmented frame, use `newframe = frame.copy()`\n",
      "  df = pd.read_sas(\"./dataset/LLCP2021.XPT\")\n",
      "C:\\Users\\Bagus_Raka\\AppData\\Local\\Temp\\ipykernel_3992\\3495794759.py:3: PerformanceWarning: DataFrame is highly fragmented.  This is usually the result of calling `frame.insert` many times, which has poor performance.  Consider joining all columns at once using pd.concat(axis=1) instead. To get a de-fragmented frame, use `newframe = frame.copy()`\n",
      "  df = pd.read_sas(\"./dataset/LLCP2021.XPT\")\n",
      "C:\\Users\\Bagus_Raka\\AppData\\Local\\Temp\\ipykernel_3992\\3495794759.py:3: PerformanceWarning: DataFrame is highly fragmented.  This is usually the result of calling `frame.insert` many times, which has poor performance.  Consider joining all columns at once using pd.concat(axis=1) instead. To get a de-fragmented frame, use `newframe = frame.copy()`\n",
      "  df = pd.read_sas(\"./dataset/LLCP2021.XPT\")\n",
      "C:\\Users\\Bagus_Raka\\AppData\\Local\\Temp\\ipykernel_3992\\3495794759.py:3: PerformanceWarning: DataFrame is highly fragmented.  This is usually the result of calling `frame.insert` many times, which has poor performance.  Consider joining all columns at once using pd.concat(axis=1) instead. To get a de-fragmented frame, use `newframe = frame.copy()`\n",
      "  df = pd.read_sas(\"./dataset/LLCP2021.XPT\")\n",
      "C:\\Users\\Bagus_Raka\\AppData\\Local\\Temp\\ipykernel_3992\\3495794759.py:3: PerformanceWarning: DataFrame is highly fragmented.  This is usually the result of calling `frame.insert` many times, which has poor performance.  Consider joining all columns at once using pd.concat(axis=1) instead. To get a de-fragmented frame, use `newframe = frame.copy()`\n",
      "  df = pd.read_sas(\"./dataset/LLCP2021.XPT\")\n",
      "C:\\Users\\Bagus_Raka\\AppData\\Local\\Temp\\ipykernel_3992\\3495794759.py:3: PerformanceWarning: DataFrame is highly fragmented.  This is usually the result of calling `frame.insert` many times, which has poor performance.  Consider joining all columns at once using pd.concat(axis=1) instead. To get a de-fragmented frame, use `newframe = frame.copy()`\n",
      "  df = pd.read_sas(\"./dataset/LLCP2021.XPT\")\n",
      "C:\\Users\\Bagus_Raka\\AppData\\Local\\Temp\\ipykernel_3992\\3495794759.py:3: PerformanceWarning: DataFrame is highly fragmented.  This is usually the result of calling `frame.insert` many times, which has poor performance.  Consider joining all columns at once using pd.concat(axis=1) instead. To get a de-fragmented frame, use `newframe = frame.copy()`\n",
      "  df = pd.read_sas(\"./dataset/LLCP2021.XPT\")\n",
      "C:\\Users\\Bagus_Raka\\AppData\\Local\\Temp\\ipykernel_3992\\3495794759.py:3: PerformanceWarning: DataFrame is highly fragmented.  This is usually the result of calling `frame.insert` many times, which has poor performance.  Consider joining all columns at once using pd.concat(axis=1) instead. To get a de-fragmented frame, use `newframe = frame.copy()`\n",
      "  df = pd.read_sas(\"./dataset/LLCP2021.XPT\")\n",
      "C:\\Users\\Bagus_Raka\\AppData\\Local\\Temp\\ipykernel_3992\\3495794759.py:3: PerformanceWarning: DataFrame is highly fragmented.  This is usually the result of calling `frame.insert` many times, which has poor performance.  Consider joining all columns at once using pd.concat(axis=1) instead. To get a de-fragmented frame, use `newframe = frame.copy()`\n",
      "  df = pd.read_sas(\"./dataset/LLCP2021.XPT\")\n",
      "C:\\Users\\Bagus_Raka\\AppData\\Local\\Temp\\ipykernel_3992\\3495794759.py:3: PerformanceWarning: DataFrame is highly fragmented.  This is usually the result of calling `frame.insert` many times, which has poor performance.  Consider joining all columns at once using pd.concat(axis=1) instead. To get a de-fragmented frame, use `newframe = frame.copy()`\n",
      "  df = pd.read_sas(\"./dataset/LLCP2021.XPT\")\n",
      "C:\\Users\\Bagus_Raka\\AppData\\Local\\Temp\\ipykernel_3992\\3495794759.py:3: PerformanceWarning: DataFrame is highly fragmented.  This is usually the result of calling `frame.insert` many times, which has poor performance.  Consider joining all columns at once using pd.concat(axis=1) instead. To get a de-fragmented frame, use `newframe = frame.copy()`\n",
      "  df = pd.read_sas(\"./dataset/LLCP2021.XPT\")\n",
      "C:\\Users\\Bagus_Raka\\AppData\\Local\\Temp\\ipykernel_3992\\3495794759.py:3: PerformanceWarning: DataFrame is highly fragmented.  This is usually the result of calling `frame.insert` many times, which has poor performance.  Consider joining all columns at once using pd.concat(axis=1) instead. To get a de-fragmented frame, use `newframe = frame.copy()`\n",
      "  df = pd.read_sas(\"./dataset/LLCP2021.XPT\")\n",
      "C:\\Users\\Bagus_Raka\\AppData\\Local\\Temp\\ipykernel_3992\\3495794759.py:3: PerformanceWarning: DataFrame is highly fragmented.  This is usually the result of calling `frame.insert` many times, which has poor performance.  Consider joining all columns at once using pd.concat(axis=1) instead. To get a de-fragmented frame, use `newframe = frame.copy()`\n",
      "  df = pd.read_sas(\"./dataset/LLCP2021.XPT\")\n",
      "C:\\Users\\Bagus_Raka\\AppData\\Local\\Temp\\ipykernel_3992\\3495794759.py:3: PerformanceWarning: DataFrame is highly fragmented.  This is usually the result of calling `frame.insert` many times, which has poor performance.  Consider joining all columns at once using pd.concat(axis=1) instead. To get a de-fragmented frame, use `newframe = frame.copy()`\n",
      "  df = pd.read_sas(\"./dataset/LLCP2021.XPT\")\n",
      "C:\\Users\\Bagus_Raka\\AppData\\Local\\Temp\\ipykernel_3992\\3495794759.py:3: PerformanceWarning: DataFrame is highly fragmented.  This is usually the result of calling `frame.insert` many times, which has poor performance.  Consider joining all columns at once using pd.concat(axis=1) instead. To get a de-fragmented frame, use `newframe = frame.copy()`\n",
      "  df = pd.read_sas(\"./dataset/LLCP2021.XPT\")\n",
      "C:\\Users\\Bagus_Raka\\AppData\\Local\\Temp\\ipykernel_3992\\3495794759.py:3: PerformanceWarning: DataFrame is highly fragmented.  This is usually the result of calling `frame.insert` many times, which has poor performance.  Consider joining all columns at once using pd.concat(axis=1) instead. To get a de-fragmented frame, use `newframe = frame.copy()`\n",
      "  df = pd.read_sas(\"./dataset/LLCP2021.XPT\")\n",
      "C:\\Users\\Bagus_Raka\\AppData\\Local\\Temp\\ipykernel_3992\\3495794759.py:3: PerformanceWarning: DataFrame is highly fragmented.  This is usually the result of calling `frame.insert` many times, which has poor performance.  Consider joining all columns at once using pd.concat(axis=1) instead. To get a de-fragmented frame, use `newframe = frame.copy()`\n",
      "  df = pd.read_sas(\"./dataset/LLCP2021.XPT\")\n",
      "C:\\Users\\Bagus_Raka\\AppData\\Local\\Temp\\ipykernel_3992\\3495794759.py:3: PerformanceWarning: DataFrame is highly fragmented.  This is usually the result of calling `frame.insert` many times, which has poor performance.  Consider joining all columns at once using pd.concat(axis=1) instead. To get a de-fragmented frame, use `newframe = frame.copy()`\n",
      "  df = pd.read_sas(\"./dataset/LLCP2021.XPT\")\n",
      "C:\\Users\\Bagus_Raka\\AppData\\Local\\Temp\\ipykernel_3992\\3495794759.py:3: PerformanceWarning: DataFrame is highly fragmented.  This is usually the result of calling `frame.insert` many times, which has poor performance.  Consider joining all columns at once using pd.concat(axis=1) instead. To get a de-fragmented frame, use `newframe = frame.copy()`\n",
      "  df = pd.read_sas(\"./dataset/LLCP2021.XPT\")\n",
      "C:\\Users\\Bagus_Raka\\AppData\\Local\\Temp\\ipykernel_3992\\3495794759.py:3: PerformanceWarning: DataFrame is highly fragmented.  This is usually the result of calling `frame.insert` many times, which has poor performance.  Consider joining all columns at once using pd.concat(axis=1) instead. To get a de-fragmented frame, use `newframe = frame.copy()`\n",
      "  df = pd.read_sas(\"./dataset/LLCP2021.XPT\")\n",
      "C:\\Users\\Bagus_Raka\\AppData\\Local\\Temp\\ipykernel_3992\\3495794759.py:3: PerformanceWarning: DataFrame is highly fragmented.  This is usually the result of calling `frame.insert` many times, which has poor performance.  Consider joining all columns at once using pd.concat(axis=1) instead. To get a de-fragmented frame, use `newframe = frame.copy()`\n",
      "  df = pd.read_sas(\"./dataset/LLCP2021.XPT\")\n",
      "C:\\Users\\Bagus_Raka\\AppData\\Local\\Temp\\ipykernel_3992\\3495794759.py:3: PerformanceWarning: DataFrame is highly fragmented.  This is usually the result of calling `frame.insert` many times, which has poor performance.  Consider joining all columns at once using pd.concat(axis=1) instead. To get a de-fragmented frame, use `newframe = frame.copy()`\n",
      "  df = pd.read_sas(\"./dataset/LLCP2021.XPT\")\n",
      "C:\\Users\\Bagus_Raka\\AppData\\Local\\Temp\\ipykernel_3992\\3495794759.py:3: PerformanceWarning: DataFrame is highly fragmented.  This is usually the result of calling `frame.insert` many times, which has poor performance.  Consider joining all columns at once using pd.concat(axis=1) instead. To get a de-fragmented frame, use `newframe = frame.copy()`\n",
      "  df = pd.read_sas(\"./dataset/LLCP2021.XPT\")\n",
      "C:\\Users\\Bagus_Raka\\AppData\\Local\\Temp\\ipykernel_3992\\3495794759.py:3: PerformanceWarning: DataFrame is highly fragmented.  This is usually the result of calling `frame.insert` many times, which has poor performance.  Consider joining all columns at once using pd.concat(axis=1) instead. To get a de-fragmented frame, use `newframe = frame.copy()`\n",
      "  df = pd.read_sas(\"./dataset/LLCP2021.XPT\")\n",
      "C:\\Users\\Bagus_Raka\\AppData\\Local\\Temp\\ipykernel_3992\\3495794759.py:3: PerformanceWarning: DataFrame is highly fragmented.  This is usually the result of calling `frame.insert` many times, which has poor performance.  Consider joining all columns at once using pd.concat(axis=1) instead. To get a de-fragmented frame, use `newframe = frame.copy()`\n",
      "  df = pd.read_sas(\"./dataset/LLCP2021.XPT\")\n",
      "C:\\Users\\Bagus_Raka\\AppData\\Local\\Temp\\ipykernel_3992\\3495794759.py:3: PerformanceWarning: DataFrame is highly fragmented.  This is usually the result of calling `frame.insert` many times, which has poor performance.  Consider joining all columns at once using pd.concat(axis=1) instead. To get a de-fragmented frame, use `newframe = frame.copy()`\n",
      "  df = pd.read_sas(\"./dataset/LLCP2021.XPT\")\n",
      "C:\\Users\\Bagus_Raka\\AppData\\Local\\Temp\\ipykernel_3992\\3495794759.py:3: PerformanceWarning: DataFrame is highly fragmented.  This is usually the result of calling `frame.insert` many times, which has poor performance.  Consider joining all columns at once using pd.concat(axis=1) instead. To get a de-fragmented frame, use `newframe = frame.copy()`\n",
      "  df = pd.read_sas(\"./dataset/LLCP2021.XPT\")\n",
      "C:\\Users\\Bagus_Raka\\AppData\\Local\\Temp\\ipykernel_3992\\3495794759.py:3: PerformanceWarning: DataFrame is highly fragmented.  This is usually the result of calling `frame.insert` many times, which has poor performance.  Consider joining all columns at once using pd.concat(axis=1) instead. To get a de-fragmented frame, use `newframe = frame.copy()`\n",
      "  df = pd.read_sas(\"./dataset/LLCP2021.XPT\")\n",
      "C:\\Users\\Bagus_Raka\\AppData\\Local\\Temp\\ipykernel_3992\\3495794759.py:3: PerformanceWarning: DataFrame is highly fragmented.  This is usually the result of calling `frame.insert` many times, which has poor performance.  Consider joining all columns at once using pd.concat(axis=1) instead. To get a de-fragmented frame, use `newframe = frame.copy()`\n",
      "  df = pd.read_sas(\"./dataset/LLCP2021.XPT\")\n",
      "C:\\Users\\Bagus_Raka\\AppData\\Local\\Temp\\ipykernel_3992\\3495794759.py:3: PerformanceWarning: DataFrame is highly fragmented.  This is usually the result of calling `frame.insert` many times, which has poor performance.  Consider joining all columns at once using pd.concat(axis=1) instead. To get a de-fragmented frame, use `newframe = frame.copy()`\n",
      "  df = pd.read_sas(\"./dataset/LLCP2021.XPT\")\n",
      "C:\\Users\\Bagus_Raka\\AppData\\Local\\Temp\\ipykernel_3992\\3495794759.py:3: PerformanceWarning: DataFrame is highly fragmented.  This is usually the result of calling `frame.insert` many times, which has poor performance.  Consider joining all columns at once using pd.concat(axis=1) instead. To get a de-fragmented frame, use `newframe = frame.copy()`\n",
      "  df = pd.read_sas(\"./dataset/LLCP2021.XPT\")\n",
      "C:\\Users\\Bagus_Raka\\AppData\\Local\\Temp\\ipykernel_3992\\3495794759.py:3: PerformanceWarning: DataFrame is highly fragmented.  This is usually the result of calling `frame.insert` many times, which has poor performance.  Consider joining all columns at once using pd.concat(axis=1) instead. To get a de-fragmented frame, use `newframe = frame.copy()`\n",
      "  df = pd.read_sas(\"./dataset/LLCP2021.XPT\")\n",
      "C:\\Users\\Bagus_Raka\\AppData\\Local\\Temp\\ipykernel_3992\\3495794759.py:3: PerformanceWarning: DataFrame is highly fragmented.  This is usually the result of calling `frame.insert` many times, which has poor performance.  Consider joining all columns at once using pd.concat(axis=1) instead. To get a de-fragmented frame, use `newframe = frame.copy()`\n",
      "  df = pd.read_sas(\"./dataset/LLCP2021.XPT\")\n",
      "C:\\Users\\Bagus_Raka\\AppData\\Local\\Temp\\ipykernel_3992\\3495794759.py:3: PerformanceWarning: DataFrame is highly fragmented.  This is usually the result of calling `frame.insert` many times, which has poor performance.  Consider joining all columns at once using pd.concat(axis=1) instead. To get a de-fragmented frame, use `newframe = frame.copy()`\n",
      "  df = pd.read_sas(\"./dataset/LLCP2021.XPT\")\n",
      "C:\\Users\\Bagus_Raka\\AppData\\Local\\Temp\\ipykernel_3992\\3495794759.py:3: PerformanceWarning: DataFrame is highly fragmented.  This is usually the result of calling `frame.insert` many times, which has poor performance.  Consider joining all columns at once using pd.concat(axis=1) instead. To get a de-fragmented frame, use `newframe = frame.copy()`\n",
      "  df = pd.read_sas(\"./dataset/LLCP2021.XPT\")\n",
      "C:\\Users\\Bagus_Raka\\AppData\\Local\\Temp\\ipykernel_3992\\3495794759.py:3: PerformanceWarning: DataFrame is highly fragmented.  This is usually the result of calling `frame.insert` many times, which has poor performance.  Consider joining all columns at once using pd.concat(axis=1) instead. To get a de-fragmented frame, use `newframe = frame.copy()`\n",
      "  df = pd.read_sas(\"./dataset/LLCP2021.XPT\")\n",
      "C:\\Users\\Bagus_Raka\\AppData\\Local\\Temp\\ipykernel_3992\\3495794759.py:3: PerformanceWarning: DataFrame is highly fragmented.  This is usually the result of calling `frame.insert` many times, which has poor performance.  Consider joining all columns at once using pd.concat(axis=1) instead. To get a de-fragmented frame, use `newframe = frame.copy()`\n",
      "  df = pd.read_sas(\"./dataset/LLCP2021.XPT\")\n",
      "C:\\Users\\Bagus_Raka\\AppData\\Local\\Temp\\ipykernel_3992\\3495794759.py:3: PerformanceWarning: DataFrame is highly fragmented.  This is usually the result of calling `frame.insert` many times, which has poor performance.  Consider joining all columns at once using pd.concat(axis=1) instead. To get a de-fragmented frame, use `newframe = frame.copy()`\n",
      "  df = pd.read_sas(\"./dataset/LLCP2021.XPT\")\n",
      "C:\\Users\\Bagus_Raka\\AppData\\Local\\Temp\\ipykernel_3992\\3495794759.py:3: PerformanceWarning: DataFrame is highly fragmented.  This is usually the result of calling `frame.insert` many times, which has poor performance.  Consider joining all columns at once using pd.concat(axis=1) instead. To get a de-fragmented frame, use `newframe = frame.copy()`\n",
      "  df = pd.read_sas(\"./dataset/LLCP2021.XPT\")\n",
      "C:\\Users\\Bagus_Raka\\AppData\\Local\\Temp\\ipykernel_3992\\3495794759.py:3: PerformanceWarning: DataFrame is highly fragmented.  This is usually the result of calling `frame.insert` many times, which has poor performance.  Consider joining all columns at once using pd.concat(axis=1) instead. To get a de-fragmented frame, use `newframe = frame.copy()`\n",
      "  df = pd.read_sas(\"./dataset/LLCP2021.XPT\")\n",
      "C:\\Users\\Bagus_Raka\\AppData\\Local\\Temp\\ipykernel_3992\\3495794759.py:3: PerformanceWarning: DataFrame is highly fragmented.  This is usually the result of calling `frame.insert` many times, which has poor performance.  Consider joining all columns at once using pd.concat(axis=1) instead. To get a de-fragmented frame, use `newframe = frame.copy()`\n",
      "  df = pd.read_sas(\"./dataset/LLCP2021.XPT\")\n",
      "C:\\Users\\Bagus_Raka\\AppData\\Local\\Temp\\ipykernel_3992\\3495794759.py:3: PerformanceWarning: DataFrame is highly fragmented.  This is usually the result of calling `frame.insert` many times, which has poor performance.  Consider joining all columns at once using pd.concat(axis=1) instead. To get a de-fragmented frame, use `newframe = frame.copy()`\n",
      "  df = pd.read_sas(\"./dataset/LLCP2021.XPT\")\n",
      "C:\\Users\\Bagus_Raka\\AppData\\Local\\Temp\\ipykernel_3992\\3495794759.py:3: PerformanceWarning: DataFrame is highly fragmented.  This is usually the result of calling `frame.insert` many times, which has poor performance.  Consider joining all columns at once using pd.concat(axis=1) instead. To get a de-fragmented frame, use `newframe = frame.copy()`\n",
      "  df = pd.read_sas(\"./dataset/LLCP2021.XPT\")\n",
      "C:\\Users\\Bagus_Raka\\AppData\\Local\\Temp\\ipykernel_3992\\3495794759.py:3: PerformanceWarning: DataFrame is highly fragmented.  This is usually the result of calling `frame.insert` many times, which has poor performance.  Consider joining all columns at once using pd.concat(axis=1) instead. To get a de-fragmented frame, use `newframe = frame.copy()`\n",
      "  df = pd.read_sas(\"./dataset/LLCP2021.XPT\")\n",
      "C:\\Users\\Bagus_Raka\\AppData\\Local\\Temp\\ipykernel_3992\\3495794759.py:3: PerformanceWarning: DataFrame is highly fragmented.  This is usually the result of calling `frame.insert` many times, which has poor performance.  Consider joining all columns at once using pd.concat(axis=1) instead. To get a de-fragmented frame, use `newframe = frame.copy()`\n",
      "  df = pd.read_sas(\"./dataset/LLCP2021.XPT\")\n",
      "C:\\Users\\Bagus_Raka\\AppData\\Local\\Temp\\ipykernel_3992\\3495794759.py:3: PerformanceWarning: DataFrame is highly fragmented.  This is usually the result of calling `frame.insert` many times, which has poor performance.  Consider joining all columns at once using pd.concat(axis=1) instead. To get a de-fragmented frame, use `newframe = frame.copy()`\n",
      "  df = pd.read_sas(\"./dataset/LLCP2021.XPT\")\n",
      "C:\\Users\\Bagus_Raka\\AppData\\Local\\Temp\\ipykernel_3992\\3495794759.py:3: PerformanceWarning: DataFrame is highly fragmented.  This is usually the result of calling `frame.insert` many times, which has poor performance.  Consider joining all columns at once using pd.concat(axis=1) instead. To get a de-fragmented frame, use `newframe = frame.copy()`\n",
      "  df = pd.read_sas(\"./dataset/LLCP2021.XPT\")\n",
      "C:\\Users\\Bagus_Raka\\AppData\\Local\\Temp\\ipykernel_3992\\3495794759.py:3: PerformanceWarning: DataFrame is highly fragmented.  This is usually the result of calling `frame.insert` many times, which has poor performance.  Consider joining all columns at once using pd.concat(axis=1) instead. To get a de-fragmented frame, use `newframe = frame.copy()`\n",
      "  df = pd.read_sas(\"./dataset/LLCP2021.XPT\")\n",
      "C:\\Users\\Bagus_Raka\\AppData\\Local\\Temp\\ipykernel_3992\\3495794759.py:3: PerformanceWarning: DataFrame is highly fragmented.  This is usually the result of calling `frame.insert` many times, which has poor performance.  Consider joining all columns at once using pd.concat(axis=1) instead. To get a de-fragmented frame, use `newframe = frame.copy()`\n",
      "  df = pd.read_sas(\"./dataset/LLCP2021.XPT\")\n",
      "C:\\Users\\Bagus_Raka\\AppData\\Local\\Temp\\ipykernel_3992\\3495794759.py:3: PerformanceWarning: DataFrame is highly fragmented.  This is usually the result of calling `frame.insert` many times, which has poor performance.  Consider joining all columns at once using pd.concat(axis=1) instead. To get a de-fragmented frame, use `newframe = frame.copy()`\n",
      "  df = pd.read_sas(\"./dataset/LLCP2021.XPT\")\n",
      "C:\\Users\\Bagus_Raka\\AppData\\Local\\Temp\\ipykernel_3992\\3495794759.py:3: PerformanceWarning: DataFrame is highly fragmented.  This is usually the result of calling `frame.insert` many times, which has poor performance.  Consider joining all columns at once using pd.concat(axis=1) instead. To get a de-fragmented frame, use `newframe = frame.copy()`\n",
      "  df = pd.read_sas(\"./dataset/LLCP2021.XPT\")\n",
      "C:\\Users\\Bagus_Raka\\AppData\\Local\\Temp\\ipykernel_3992\\3495794759.py:3: PerformanceWarning: DataFrame is highly fragmented.  This is usually the result of calling `frame.insert` many times, which has poor performance.  Consider joining all columns at once using pd.concat(axis=1) instead. To get a de-fragmented frame, use `newframe = frame.copy()`\n",
      "  df = pd.read_sas(\"./dataset/LLCP2021.XPT\")\n",
      "C:\\Users\\Bagus_Raka\\AppData\\Local\\Temp\\ipykernel_3992\\3495794759.py:3: PerformanceWarning: DataFrame is highly fragmented.  This is usually the result of calling `frame.insert` many times, which has poor performance.  Consider joining all columns at once using pd.concat(axis=1) instead. To get a de-fragmented frame, use `newframe = frame.copy()`\n",
      "  df = pd.read_sas(\"./dataset/LLCP2021.XPT\")\n",
      "C:\\Users\\Bagus_Raka\\AppData\\Local\\Temp\\ipykernel_3992\\3495794759.py:3: PerformanceWarning: DataFrame is highly fragmented.  This is usually the result of calling `frame.insert` many times, which has poor performance.  Consider joining all columns at once using pd.concat(axis=1) instead. To get a de-fragmented frame, use `newframe = frame.copy()`\n",
      "  df = pd.read_sas(\"./dataset/LLCP2021.XPT\")\n",
      "C:\\Users\\Bagus_Raka\\AppData\\Local\\Temp\\ipykernel_3992\\3495794759.py:3: PerformanceWarning: DataFrame is highly fragmented.  This is usually the result of calling `frame.insert` many times, which has poor performance.  Consider joining all columns at once using pd.concat(axis=1) instead. To get a de-fragmented frame, use `newframe = frame.copy()`\n",
      "  df = pd.read_sas(\"./dataset/LLCP2021.XPT\")\n",
      "C:\\Users\\Bagus_Raka\\AppData\\Local\\Temp\\ipykernel_3992\\3495794759.py:3: PerformanceWarning: DataFrame is highly fragmented.  This is usually the result of calling `frame.insert` many times, which has poor performance.  Consider joining all columns at once using pd.concat(axis=1) instead. To get a de-fragmented frame, use `newframe = frame.copy()`\n",
      "  df = pd.read_sas(\"./dataset/LLCP2021.XPT\")\n",
      "C:\\Users\\Bagus_Raka\\AppData\\Local\\Temp\\ipykernel_3992\\3495794759.py:3: PerformanceWarning: DataFrame is highly fragmented.  This is usually the result of calling `frame.insert` many times, which has poor performance.  Consider joining all columns at once using pd.concat(axis=1) instead. To get a de-fragmented frame, use `newframe = frame.copy()`\n",
      "  df = pd.read_sas(\"./dataset/LLCP2021.XPT\")\n",
      "C:\\Users\\Bagus_Raka\\AppData\\Local\\Temp\\ipykernel_3992\\3495794759.py:3: PerformanceWarning: DataFrame is highly fragmented.  This is usually the result of calling `frame.insert` many times, which has poor performance.  Consider joining all columns at once using pd.concat(axis=1) instead. To get a de-fragmented frame, use `newframe = frame.copy()`\n",
      "  df = pd.read_sas(\"./dataset/LLCP2021.XPT\")\n",
      "C:\\Users\\Bagus_Raka\\AppData\\Local\\Temp\\ipykernel_3992\\3495794759.py:3: PerformanceWarning: DataFrame is highly fragmented.  This is usually the result of calling `frame.insert` many times, which has poor performance.  Consider joining all columns at once using pd.concat(axis=1) instead. To get a de-fragmented frame, use `newframe = frame.copy()`\n",
      "  df = pd.read_sas(\"./dataset/LLCP2021.XPT\")\n",
      "C:\\Users\\Bagus_Raka\\AppData\\Local\\Temp\\ipykernel_3992\\3495794759.py:3: PerformanceWarning: DataFrame is highly fragmented.  This is usually the result of calling `frame.insert` many times, which has poor performance.  Consider joining all columns at once using pd.concat(axis=1) instead. To get a de-fragmented frame, use `newframe = frame.copy()`\n",
      "  df = pd.read_sas(\"./dataset/LLCP2021.XPT\")\n",
      "C:\\Users\\Bagus_Raka\\AppData\\Local\\Temp\\ipykernel_3992\\3495794759.py:3: PerformanceWarning: DataFrame is highly fragmented.  This is usually the result of calling `frame.insert` many times, which has poor performance.  Consider joining all columns at once using pd.concat(axis=1) instead. To get a de-fragmented frame, use `newframe = frame.copy()`\n",
      "  df = pd.read_sas(\"./dataset/LLCP2021.XPT\")\n",
      "C:\\Users\\Bagus_Raka\\AppData\\Local\\Temp\\ipykernel_3992\\3495794759.py:3: PerformanceWarning: DataFrame is highly fragmented.  This is usually the result of calling `frame.insert` many times, which has poor performance.  Consider joining all columns at once using pd.concat(axis=1) instead. To get a de-fragmented frame, use `newframe = frame.copy()`\n",
      "  df = pd.read_sas(\"./dataset/LLCP2021.XPT\")\n",
      "C:\\Users\\Bagus_Raka\\AppData\\Local\\Temp\\ipykernel_3992\\3495794759.py:3: PerformanceWarning: DataFrame is highly fragmented.  This is usually the result of calling `frame.insert` many times, which has poor performance.  Consider joining all columns at once using pd.concat(axis=1) instead. To get a de-fragmented frame, use `newframe = frame.copy()`\n",
      "  df = pd.read_sas(\"./dataset/LLCP2021.XPT\")\n",
      "C:\\Users\\Bagus_Raka\\AppData\\Local\\Temp\\ipykernel_3992\\3495794759.py:3: PerformanceWarning: DataFrame is highly fragmented.  This is usually the result of calling `frame.insert` many times, which has poor performance.  Consider joining all columns at once using pd.concat(axis=1) instead. To get a de-fragmented frame, use `newframe = frame.copy()`\n",
      "  df = pd.read_sas(\"./dataset/LLCP2021.XPT\")\n",
      "C:\\Users\\Bagus_Raka\\AppData\\Local\\Temp\\ipykernel_3992\\3495794759.py:3: PerformanceWarning: DataFrame is highly fragmented.  This is usually the result of calling `frame.insert` many times, which has poor performance.  Consider joining all columns at once using pd.concat(axis=1) instead. To get a de-fragmented frame, use `newframe = frame.copy()`\n",
      "  df = pd.read_sas(\"./dataset/LLCP2021.XPT\")\n",
      "C:\\Users\\Bagus_Raka\\AppData\\Local\\Temp\\ipykernel_3992\\3495794759.py:3: PerformanceWarning: DataFrame is highly fragmented.  This is usually the result of calling `frame.insert` many times, which has poor performance.  Consider joining all columns at once using pd.concat(axis=1) instead. To get a de-fragmented frame, use `newframe = frame.copy()`\n",
      "  df = pd.read_sas(\"./dataset/LLCP2021.XPT\")\n",
      "C:\\Users\\Bagus_Raka\\AppData\\Local\\Temp\\ipykernel_3992\\3495794759.py:3: PerformanceWarning: DataFrame is highly fragmented.  This is usually the result of calling `frame.insert` many times, which has poor performance.  Consider joining all columns at once using pd.concat(axis=1) instead. To get a de-fragmented frame, use `newframe = frame.copy()`\n",
      "  df = pd.read_sas(\"./dataset/LLCP2021.XPT\")\n",
      "C:\\Users\\Bagus_Raka\\AppData\\Local\\Temp\\ipykernel_3992\\3495794759.py:3: PerformanceWarning: DataFrame is highly fragmented.  This is usually the result of calling `frame.insert` many times, which has poor performance.  Consider joining all columns at once using pd.concat(axis=1) instead. To get a de-fragmented frame, use `newframe = frame.copy()`\n",
      "  df = pd.read_sas(\"./dataset/LLCP2021.XPT\")\n",
      "C:\\Users\\Bagus_Raka\\AppData\\Local\\Temp\\ipykernel_3992\\3495794759.py:3: PerformanceWarning: DataFrame is highly fragmented.  This is usually the result of calling `frame.insert` many times, which has poor performance.  Consider joining all columns at once using pd.concat(axis=1) instead. To get a de-fragmented frame, use `newframe = frame.copy()`\n",
      "  df = pd.read_sas(\"./dataset/LLCP2021.XPT\")\n",
      "C:\\Users\\Bagus_Raka\\AppData\\Local\\Temp\\ipykernel_3992\\3495794759.py:3: PerformanceWarning: DataFrame is highly fragmented.  This is usually the result of calling `frame.insert` many times, which has poor performance.  Consider joining all columns at once using pd.concat(axis=1) instead. To get a de-fragmented frame, use `newframe = frame.copy()`\n",
      "  df = pd.read_sas(\"./dataset/LLCP2021.XPT\")\n",
      "C:\\Users\\Bagus_Raka\\AppData\\Local\\Temp\\ipykernel_3992\\3495794759.py:3: PerformanceWarning: DataFrame is highly fragmented.  This is usually the result of calling `frame.insert` many times, which has poor performance.  Consider joining all columns at once using pd.concat(axis=1) instead. To get a de-fragmented frame, use `newframe = frame.copy()`\n",
      "  df = pd.read_sas(\"./dataset/LLCP2021.XPT\")\n",
      "C:\\Users\\Bagus_Raka\\AppData\\Local\\Temp\\ipykernel_3992\\3495794759.py:3: PerformanceWarning: DataFrame is highly fragmented.  This is usually the result of calling `frame.insert` many times, which has poor performance.  Consider joining all columns at once using pd.concat(axis=1) instead. To get a de-fragmented frame, use `newframe = frame.copy()`\n",
      "  df = pd.read_sas(\"./dataset/LLCP2021.XPT\")\n",
      "C:\\Users\\Bagus_Raka\\AppData\\Local\\Temp\\ipykernel_3992\\3495794759.py:3: PerformanceWarning: DataFrame is highly fragmented.  This is usually the result of calling `frame.insert` many times, which has poor performance.  Consider joining all columns at once using pd.concat(axis=1) instead. To get a de-fragmented frame, use `newframe = frame.copy()`\n",
      "  df = pd.read_sas(\"./dataset/LLCP2021.XPT\")\n",
      "C:\\Users\\Bagus_Raka\\AppData\\Local\\Temp\\ipykernel_3992\\3495794759.py:3: PerformanceWarning: DataFrame is highly fragmented.  This is usually the result of calling `frame.insert` many times, which has poor performance.  Consider joining all columns at once using pd.concat(axis=1) instead. To get a de-fragmented frame, use `newframe = frame.copy()`\n",
      "  df = pd.read_sas(\"./dataset/LLCP2021.XPT\")\n",
      "C:\\Users\\Bagus_Raka\\AppData\\Local\\Temp\\ipykernel_3992\\3495794759.py:3: PerformanceWarning: DataFrame is highly fragmented.  This is usually the result of calling `frame.insert` many times, which has poor performance.  Consider joining all columns at once using pd.concat(axis=1) instead. To get a de-fragmented frame, use `newframe = frame.copy()`\n",
      "  df = pd.read_sas(\"./dataset/LLCP2021.XPT\")\n",
      "C:\\Users\\Bagus_Raka\\AppData\\Local\\Temp\\ipykernel_3992\\3495794759.py:3: PerformanceWarning: DataFrame is highly fragmented.  This is usually the result of calling `frame.insert` many times, which has poor performance.  Consider joining all columns at once using pd.concat(axis=1) instead. To get a de-fragmented frame, use `newframe = frame.copy()`\n",
      "  df = pd.read_sas(\"./dataset/LLCP2021.XPT\")\n",
      "C:\\Users\\Bagus_Raka\\AppData\\Local\\Temp\\ipykernel_3992\\3495794759.py:3: PerformanceWarning: DataFrame is highly fragmented.  This is usually the result of calling `frame.insert` many times, which has poor performance.  Consider joining all columns at once using pd.concat(axis=1) instead. To get a de-fragmented frame, use `newframe = frame.copy()`\n",
      "  df = pd.read_sas(\"./dataset/LLCP2021.XPT\")\n",
      "C:\\Users\\Bagus_Raka\\AppData\\Local\\Temp\\ipykernel_3992\\3495794759.py:3: PerformanceWarning: DataFrame is highly fragmented.  This is usually the result of calling `frame.insert` many times, which has poor performance.  Consider joining all columns at once using pd.concat(axis=1) instead. To get a de-fragmented frame, use `newframe = frame.copy()`\n",
      "  df = pd.read_sas(\"./dataset/LLCP2021.XPT\")\n",
      "C:\\Users\\Bagus_Raka\\AppData\\Local\\Temp\\ipykernel_3992\\3495794759.py:3: PerformanceWarning: DataFrame is highly fragmented.  This is usually the result of calling `frame.insert` many times, which has poor performance.  Consider joining all columns at once using pd.concat(axis=1) instead. To get a de-fragmented frame, use `newframe = frame.copy()`\n",
      "  df = pd.read_sas(\"./dataset/LLCP2021.XPT\")\n",
      "C:\\Users\\Bagus_Raka\\AppData\\Local\\Temp\\ipykernel_3992\\3495794759.py:3: PerformanceWarning: DataFrame is highly fragmented.  This is usually the result of calling `frame.insert` many times, which has poor performance.  Consider joining all columns at once using pd.concat(axis=1) instead. To get a de-fragmented frame, use `newframe = frame.copy()`\n",
      "  df = pd.read_sas(\"./dataset/LLCP2021.XPT\")\n",
      "C:\\Users\\Bagus_Raka\\AppData\\Local\\Temp\\ipykernel_3992\\3495794759.py:3: PerformanceWarning: DataFrame is highly fragmented.  This is usually the result of calling `frame.insert` many times, which has poor performance.  Consider joining all columns at once using pd.concat(axis=1) instead. To get a de-fragmented frame, use `newframe = frame.copy()`\n",
      "  df = pd.read_sas(\"./dataset/LLCP2021.XPT\")\n",
      "C:\\Users\\Bagus_Raka\\AppData\\Local\\Temp\\ipykernel_3992\\3495794759.py:3: PerformanceWarning: DataFrame is highly fragmented.  This is usually the result of calling `frame.insert` many times, which has poor performance.  Consider joining all columns at once using pd.concat(axis=1) instead. To get a de-fragmented frame, use `newframe = frame.copy()`\n",
      "  df = pd.read_sas(\"./dataset/LLCP2021.XPT\")\n",
      "C:\\Users\\Bagus_Raka\\AppData\\Local\\Temp\\ipykernel_3992\\3495794759.py:3: PerformanceWarning: DataFrame is highly fragmented.  This is usually the result of calling `frame.insert` many times, which has poor performance.  Consider joining all columns at once using pd.concat(axis=1) instead. To get a de-fragmented frame, use `newframe = frame.copy()`\n",
      "  df = pd.read_sas(\"./dataset/LLCP2021.XPT\")\n",
      "C:\\Users\\Bagus_Raka\\AppData\\Local\\Temp\\ipykernel_3992\\3495794759.py:3: PerformanceWarning: DataFrame is highly fragmented.  This is usually the result of calling `frame.insert` many times, which has poor performance.  Consider joining all columns at once using pd.concat(axis=1) instead. To get a de-fragmented frame, use `newframe = frame.copy()`\n",
      "  df = pd.read_sas(\"./dataset/LLCP2021.XPT\")\n",
      "C:\\Users\\Bagus_Raka\\AppData\\Local\\Temp\\ipykernel_3992\\3495794759.py:3: PerformanceWarning: DataFrame is highly fragmented.  This is usually the result of calling `frame.insert` many times, which has poor performance.  Consider joining all columns at once using pd.concat(axis=1) instead. To get a de-fragmented frame, use `newframe = frame.copy()`\n",
      "  df = pd.read_sas(\"./dataset/LLCP2021.XPT\")\n",
      "C:\\Users\\Bagus_Raka\\AppData\\Local\\Temp\\ipykernel_3992\\3495794759.py:3: PerformanceWarning: DataFrame is highly fragmented.  This is usually the result of calling `frame.insert` many times, which has poor performance.  Consider joining all columns at once using pd.concat(axis=1) instead. To get a de-fragmented frame, use `newframe = frame.copy()`\n",
      "  df = pd.read_sas(\"./dataset/LLCP2021.XPT\")\n",
      "C:\\Users\\Bagus_Raka\\AppData\\Local\\Temp\\ipykernel_3992\\3495794759.py:3: PerformanceWarning: DataFrame is highly fragmented.  This is usually the result of calling `frame.insert` many times, which has poor performance.  Consider joining all columns at once using pd.concat(axis=1) instead. To get a de-fragmented frame, use `newframe = frame.copy()`\n",
      "  df = pd.read_sas(\"./dataset/LLCP2021.XPT\")\n",
      "C:\\Users\\Bagus_Raka\\AppData\\Local\\Temp\\ipykernel_3992\\3495794759.py:3: PerformanceWarning: DataFrame is highly fragmented.  This is usually the result of calling `frame.insert` many times, which has poor performance.  Consider joining all columns at once using pd.concat(axis=1) instead. To get a de-fragmented frame, use `newframe = frame.copy()`\n",
      "  df = pd.read_sas(\"./dataset/LLCP2021.XPT\")\n",
      "C:\\Users\\Bagus_Raka\\AppData\\Local\\Temp\\ipykernel_3992\\3495794759.py:3: PerformanceWarning: DataFrame is highly fragmented.  This is usually the result of calling `frame.insert` many times, which has poor performance.  Consider joining all columns at once using pd.concat(axis=1) instead. To get a de-fragmented frame, use `newframe = frame.copy()`\n",
      "  df = pd.read_sas(\"./dataset/LLCP2021.XPT\")\n",
      "C:\\Users\\Bagus_Raka\\AppData\\Local\\Temp\\ipykernel_3992\\3495794759.py:3: PerformanceWarning: DataFrame is highly fragmented.  This is usually the result of calling `frame.insert` many times, which has poor performance.  Consider joining all columns at once using pd.concat(axis=1) instead. To get a de-fragmented frame, use `newframe = frame.copy()`\n",
      "  df = pd.read_sas(\"./dataset/LLCP2021.XPT\")\n",
      "C:\\Users\\Bagus_Raka\\AppData\\Local\\Temp\\ipykernel_3992\\3495794759.py:3: PerformanceWarning: DataFrame is highly fragmented.  This is usually the result of calling `frame.insert` many times, which has poor performance.  Consider joining all columns at once using pd.concat(axis=1) instead. To get a de-fragmented frame, use `newframe = frame.copy()`\n",
      "  df = pd.read_sas(\"./dataset/LLCP2021.XPT\")\n",
      "C:\\Users\\Bagus_Raka\\AppData\\Local\\Temp\\ipykernel_3992\\3495794759.py:3: PerformanceWarning: DataFrame is highly fragmented.  This is usually the result of calling `frame.insert` many times, which has poor performance.  Consider joining all columns at once using pd.concat(axis=1) instead. To get a de-fragmented frame, use `newframe = frame.copy()`\n",
      "  df = pd.read_sas(\"./dataset/LLCP2021.XPT\")\n",
      "C:\\Users\\Bagus_Raka\\AppData\\Local\\Temp\\ipykernel_3992\\3495794759.py:3: PerformanceWarning: DataFrame is highly fragmented.  This is usually the result of calling `frame.insert` many times, which has poor performance.  Consider joining all columns at once using pd.concat(axis=1) instead. To get a de-fragmented frame, use `newframe = frame.copy()`\n",
      "  df = pd.read_sas(\"./dataset/LLCP2021.XPT\")\n",
      "C:\\Users\\Bagus_Raka\\AppData\\Local\\Temp\\ipykernel_3992\\3495794759.py:3: PerformanceWarning: DataFrame is highly fragmented.  This is usually the result of calling `frame.insert` many times, which has poor performance.  Consider joining all columns at once using pd.concat(axis=1) instead. To get a de-fragmented frame, use `newframe = frame.copy()`\n",
      "  df = pd.read_sas(\"./dataset/LLCP2021.XPT\")\n",
      "C:\\Users\\Bagus_Raka\\AppData\\Local\\Temp\\ipykernel_3992\\3495794759.py:3: PerformanceWarning: DataFrame is highly fragmented.  This is usually the result of calling `frame.insert` many times, which has poor performance.  Consider joining all columns at once using pd.concat(axis=1) instead. To get a de-fragmented frame, use `newframe = frame.copy()`\n",
      "  df = pd.read_sas(\"./dataset/LLCP2021.XPT\")\n",
      "C:\\Users\\Bagus_Raka\\AppData\\Local\\Temp\\ipykernel_3992\\3495794759.py:3: PerformanceWarning: DataFrame is highly fragmented.  This is usually the result of calling `frame.insert` many times, which has poor performance.  Consider joining all columns at once using pd.concat(axis=1) instead. To get a de-fragmented frame, use `newframe = frame.copy()`\n",
      "  df = pd.read_sas(\"./dataset/LLCP2021.XPT\")\n",
      "C:\\Users\\Bagus_Raka\\AppData\\Local\\Temp\\ipykernel_3992\\3495794759.py:3: PerformanceWarning: DataFrame is highly fragmented.  This is usually the result of calling `frame.insert` many times, which has poor performance.  Consider joining all columns at once using pd.concat(axis=1) instead. To get a de-fragmented frame, use `newframe = frame.copy()`\n",
      "  df = pd.read_sas(\"./dataset/LLCP2021.XPT\")\n",
      "C:\\Users\\Bagus_Raka\\AppData\\Local\\Temp\\ipykernel_3992\\3495794759.py:3: PerformanceWarning: DataFrame is highly fragmented.  This is usually the result of calling `frame.insert` many times, which has poor performance.  Consider joining all columns at once using pd.concat(axis=1) instead. To get a de-fragmented frame, use `newframe = frame.copy()`\n",
      "  df = pd.read_sas(\"./dataset/LLCP2021.XPT\")\n",
      "C:\\Users\\Bagus_Raka\\AppData\\Local\\Temp\\ipykernel_3992\\3495794759.py:3: PerformanceWarning: DataFrame is highly fragmented.  This is usually the result of calling `frame.insert` many times, which has poor performance.  Consider joining all columns at once using pd.concat(axis=1) instead. To get a de-fragmented frame, use `newframe = frame.copy()`\n",
      "  df = pd.read_sas(\"./dataset/LLCP2021.XPT\")\n",
      "C:\\Users\\Bagus_Raka\\AppData\\Local\\Temp\\ipykernel_3992\\3495794759.py:3: PerformanceWarning: DataFrame is highly fragmented.  This is usually the result of calling `frame.insert` many times, which has poor performance.  Consider joining all columns at once using pd.concat(axis=1) instead. To get a de-fragmented frame, use `newframe = frame.copy()`\n",
      "  df = pd.read_sas(\"./dataset/LLCP2021.XPT\")\n",
      "C:\\Users\\Bagus_Raka\\AppData\\Local\\Temp\\ipykernel_3992\\3495794759.py:3: PerformanceWarning: DataFrame is highly fragmented.  This is usually the result of calling `frame.insert` many times, which has poor performance.  Consider joining all columns at once using pd.concat(axis=1) instead. To get a de-fragmented frame, use `newframe = frame.copy()`\n",
      "  df = pd.read_sas(\"./dataset/LLCP2021.XPT\")\n",
      "C:\\Users\\Bagus_Raka\\AppData\\Local\\Temp\\ipykernel_3992\\3495794759.py:3: PerformanceWarning: DataFrame is highly fragmented.  This is usually the result of calling `frame.insert` many times, which has poor performance.  Consider joining all columns at once using pd.concat(axis=1) instead. To get a de-fragmented frame, use `newframe = frame.copy()`\n",
      "  df = pd.read_sas(\"./dataset/LLCP2021.XPT\")\n",
      "C:\\Users\\Bagus_Raka\\AppData\\Local\\Temp\\ipykernel_3992\\3495794759.py:3: PerformanceWarning: DataFrame is highly fragmented.  This is usually the result of calling `frame.insert` many times, which has poor performance.  Consider joining all columns at once using pd.concat(axis=1) instead. To get a de-fragmented frame, use `newframe = frame.copy()`\n",
      "  df = pd.read_sas(\"./dataset/LLCP2021.XPT\")\n",
      "C:\\Users\\Bagus_Raka\\AppData\\Local\\Temp\\ipykernel_3992\\3495794759.py:3: PerformanceWarning: DataFrame is highly fragmented.  This is usually the result of calling `frame.insert` many times, which has poor performance.  Consider joining all columns at once using pd.concat(axis=1) instead. To get a de-fragmented frame, use `newframe = frame.copy()`\n",
      "  df = pd.read_sas(\"./dataset/LLCP2021.XPT\")\n",
      "C:\\Users\\Bagus_Raka\\AppData\\Local\\Temp\\ipykernel_3992\\3495794759.py:3: PerformanceWarning: DataFrame is highly fragmented.  This is usually the result of calling `frame.insert` many times, which has poor performance.  Consider joining all columns at once using pd.concat(axis=1) instead. To get a de-fragmented frame, use `newframe = frame.copy()`\n",
      "  df = pd.read_sas(\"./dataset/LLCP2021.XPT\")\n",
      "C:\\Users\\Bagus_Raka\\AppData\\Local\\Temp\\ipykernel_3992\\3495794759.py:3: PerformanceWarning: DataFrame is highly fragmented.  This is usually the result of calling `frame.insert` many times, which has poor performance.  Consider joining all columns at once using pd.concat(axis=1) instead. To get a de-fragmented frame, use `newframe = frame.copy()`\n",
      "  df = pd.read_sas(\"./dataset/LLCP2021.XPT\")\n",
      "C:\\Users\\Bagus_Raka\\AppData\\Local\\Temp\\ipykernel_3992\\3495794759.py:3: PerformanceWarning: DataFrame is highly fragmented.  This is usually the result of calling `frame.insert` many times, which has poor performance.  Consider joining all columns at once using pd.concat(axis=1) instead. To get a de-fragmented frame, use `newframe = frame.copy()`\n",
      "  df = pd.read_sas(\"./dataset/LLCP2021.XPT\")\n",
      "C:\\Users\\Bagus_Raka\\AppData\\Local\\Temp\\ipykernel_3992\\3495794759.py:3: PerformanceWarning: DataFrame is highly fragmented.  This is usually the result of calling `frame.insert` many times, which has poor performance.  Consider joining all columns at once using pd.concat(axis=1) instead. To get a de-fragmented frame, use `newframe = frame.copy()`\n",
      "  df = pd.read_sas(\"./dataset/LLCP2021.XPT\")\n",
      "C:\\Users\\Bagus_Raka\\AppData\\Local\\Temp\\ipykernel_3992\\3495794759.py:3: PerformanceWarning: DataFrame is highly fragmented.  This is usually the result of calling `frame.insert` many times, which has poor performance.  Consider joining all columns at once using pd.concat(axis=1) instead. To get a de-fragmented frame, use `newframe = frame.copy()`\n",
      "  df = pd.read_sas(\"./dataset/LLCP2021.XPT\")\n",
      "C:\\Users\\Bagus_Raka\\AppData\\Local\\Temp\\ipykernel_3992\\3495794759.py:3: PerformanceWarning: DataFrame is highly fragmented.  This is usually the result of calling `frame.insert` many times, which has poor performance.  Consider joining all columns at once using pd.concat(axis=1) instead. To get a de-fragmented frame, use `newframe = frame.copy()`\n",
      "  df = pd.read_sas(\"./dataset/LLCP2021.XPT\")\n",
      "C:\\Users\\Bagus_Raka\\AppData\\Local\\Temp\\ipykernel_3992\\3495794759.py:3: PerformanceWarning: DataFrame is highly fragmented.  This is usually the result of calling `frame.insert` many times, which has poor performance.  Consider joining all columns at once using pd.concat(axis=1) instead. To get a de-fragmented frame, use `newframe = frame.copy()`\n",
      "  df = pd.read_sas(\"./dataset/LLCP2021.XPT\")\n",
      "C:\\Users\\Bagus_Raka\\AppData\\Local\\Temp\\ipykernel_3992\\3495794759.py:3: PerformanceWarning: DataFrame is highly fragmented.  This is usually the result of calling `frame.insert` many times, which has poor performance.  Consider joining all columns at once using pd.concat(axis=1) instead. To get a de-fragmented frame, use `newframe = frame.copy()`\n",
      "  df = pd.read_sas(\"./dataset/LLCP2021.XPT\")\n",
      "C:\\Users\\Bagus_Raka\\AppData\\Local\\Temp\\ipykernel_3992\\3495794759.py:3: PerformanceWarning: DataFrame is highly fragmented.  This is usually the result of calling `frame.insert` many times, which has poor performance.  Consider joining all columns at once using pd.concat(axis=1) instead. To get a de-fragmented frame, use `newframe = frame.copy()`\n",
      "  df = pd.read_sas(\"./dataset/LLCP2021.XPT\")\n",
      "C:\\Users\\Bagus_Raka\\AppData\\Local\\Temp\\ipykernel_3992\\3495794759.py:3: PerformanceWarning: DataFrame is highly fragmented.  This is usually the result of calling `frame.insert` many times, which has poor performance.  Consider joining all columns at once using pd.concat(axis=1) instead. To get a de-fragmented frame, use `newframe = frame.copy()`\n",
      "  df = pd.read_sas(\"./dataset/LLCP2021.XPT\")\n",
      "C:\\Users\\Bagus_Raka\\AppData\\Local\\Temp\\ipykernel_3992\\3495794759.py:3: PerformanceWarning: DataFrame is highly fragmented.  This is usually the result of calling `frame.insert` many times, which has poor performance.  Consider joining all columns at once using pd.concat(axis=1) instead. To get a de-fragmented frame, use `newframe = frame.copy()`\n",
      "  df = pd.read_sas(\"./dataset/LLCP2021.XPT\")\n",
      "C:\\Users\\Bagus_Raka\\AppData\\Local\\Temp\\ipykernel_3992\\3495794759.py:3: PerformanceWarning: DataFrame is highly fragmented.  This is usually the result of calling `frame.insert` many times, which has poor performance.  Consider joining all columns at once using pd.concat(axis=1) instead. To get a de-fragmented frame, use `newframe = frame.copy()`\n",
      "  df = pd.read_sas(\"./dataset/LLCP2021.XPT\")\n",
      "C:\\Users\\Bagus_Raka\\AppData\\Local\\Temp\\ipykernel_3992\\3495794759.py:3: PerformanceWarning: DataFrame is highly fragmented.  This is usually the result of calling `frame.insert` many times, which has poor performance.  Consider joining all columns at once using pd.concat(axis=1) instead. To get a de-fragmented frame, use `newframe = frame.copy()`\n",
      "  df = pd.read_sas(\"./dataset/LLCP2021.XPT\")\n",
      "C:\\Users\\Bagus_Raka\\AppData\\Local\\Temp\\ipykernel_3992\\3495794759.py:3: PerformanceWarning: DataFrame is highly fragmented.  This is usually the result of calling `frame.insert` many times, which has poor performance.  Consider joining all columns at once using pd.concat(axis=1) instead. To get a de-fragmented frame, use `newframe = frame.copy()`\n",
      "  df = pd.read_sas(\"./dataset/LLCP2021.XPT\")\n",
      "C:\\Users\\Bagus_Raka\\AppData\\Local\\Temp\\ipykernel_3992\\3495794759.py:3: PerformanceWarning: DataFrame is highly fragmented.  This is usually the result of calling `frame.insert` many times, which has poor performance.  Consider joining all columns at once using pd.concat(axis=1) instead. To get a de-fragmented frame, use `newframe = frame.copy()`\n",
      "  df = pd.read_sas(\"./dataset/LLCP2021.XPT\")\n",
      "C:\\Users\\Bagus_Raka\\AppData\\Local\\Temp\\ipykernel_3992\\3495794759.py:3: PerformanceWarning: DataFrame is highly fragmented.  This is usually the result of calling `frame.insert` many times, which has poor performance.  Consider joining all columns at once using pd.concat(axis=1) instead. To get a de-fragmented frame, use `newframe = frame.copy()`\n",
      "  df = pd.read_sas(\"./dataset/LLCP2021.XPT\")\n",
      "C:\\Users\\Bagus_Raka\\AppData\\Local\\Temp\\ipykernel_3992\\3495794759.py:3: PerformanceWarning: DataFrame is highly fragmented.  This is usually the result of calling `frame.insert` many times, which has poor performance.  Consider joining all columns at once using pd.concat(axis=1) instead. To get a de-fragmented frame, use `newframe = frame.copy()`\n",
      "  df = pd.read_sas(\"./dataset/LLCP2021.XPT\")\n",
      "C:\\Users\\Bagus_Raka\\AppData\\Local\\Temp\\ipykernel_3992\\3495794759.py:3: PerformanceWarning: DataFrame is highly fragmented.  This is usually the result of calling `frame.insert` many times, which has poor performance.  Consider joining all columns at once using pd.concat(axis=1) instead. To get a de-fragmented frame, use `newframe = frame.copy()`\n",
      "  df = pd.read_sas(\"./dataset/LLCP2021.XPT\")\n",
      "C:\\Users\\Bagus_Raka\\AppData\\Local\\Temp\\ipykernel_3992\\3495794759.py:3: PerformanceWarning: DataFrame is highly fragmented.  This is usually the result of calling `frame.insert` many times, which has poor performance.  Consider joining all columns at once using pd.concat(axis=1) instead. To get a de-fragmented frame, use `newframe = frame.copy()`\n",
      "  df = pd.read_sas(\"./dataset/LLCP2021.XPT\")\n",
      "C:\\Users\\Bagus_Raka\\AppData\\Local\\Temp\\ipykernel_3992\\3495794759.py:3: PerformanceWarning: DataFrame is highly fragmented.  This is usually the result of calling `frame.insert` many times, which has poor performance.  Consider joining all columns at once using pd.concat(axis=1) instead. To get a de-fragmented frame, use `newframe = frame.copy()`\n",
      "  df = pd.read_sas(\"./dataset/LLCP2021.XPT\")\n",
      "C:\\Users\\Bagus_Raka\\AppData\\Local\\Temp\\ipykernel_3992\\3495794759.py:3: PerformanceWarning: DataFrame is highly fragmented.  This is usually the result of calling `frame.insert` many times, which has poor performance.  Consider joining all columns at once using pd.concat(axis=1) instead. To get a de-fragmented frame, use `newframe = frame.copy()`\n",
      "  df = pd.read_sas(\"./dataset/LLCP2021.XPT\")\n",
      "C:\\Users\\Bagus_Raka\\AppData\\Local\\Temp\\ipykernel_3992\\3495794759.py:3: PerformanceWarning: DataFrame is highly fragmented.  This is usually the result of calling `frame.insert` many times, which has poor performance.  Consider joining all columns at once using pd.concat(axis=1) instead. To get a de-fragmented frame, use `newframe = frame.copy()`\n",
      "  df = pd.read_sas(\"./dataset/LLCP2021.XPT\")\n",
      "C:\\Users\\Bagus_Raka\\AppData\\Local\\Temp\\ipykernel_3992\\3495794759.py:3: PerformanceWarning: DataFrame is highly fragmented.  This is usually the result of calling `frame.insert` many times, which has poor performance.  Consider joining all columns at once using pd.concat(axis=1) instead. To get a de-fragmented frame, use `newframe = frame.copy()`\n",
      "  df = pd.read_sas(\"./dataset/LLCP2021.XPT\")\n",
      "C:\\Users\\Bagus_Raka\\AppData\\Local\\Temp\\ipykernel_3992\\3495794759.py:3: PerformanceWarning: DataFrame is highly fragmented.  This is usually the result of calling `frame.insert` many times, which has poor performance.  Consider joining all columns at once using pd.concat(axis=1) instead. To get a de-fragmented frame, use `newframe = frame.copy()`\n",
      "  df = pd.read_sas(\"./dataset/LLCP2021.XPT\")\n",
      "C:\\Users\\Bagus_Raka\\AppData\\Local\\Temp\\ipykernel_3992\\3495794759.py:3: PerformanceWarning: DataFrame is highly fragmented.  This is usually the result of calling `frame.insert` many times, which has poor performance.  Consider joining all columns at once using pd.concat(axis=1) instead. To get a de-fragmented frame, use `newframe = frame.copy()`\n",
      "  df = pd.read_sas(\"./dataset/LLCP2021.XPT\")\n",
      "C:\\Users\\Bagus_Raka\\AppData\\Local\\Temp\\ipykernel_3992\\3495794759.py:3: PerformanceWarning: DataFrame is highly fragmented.  This is usually the result of calling `frame.insert` many times, which has poor performance.  Consider joining all columns at once using pd.concat(axis=1) instead. To get a de-fragmented frame, use `newframe = frame.copy()`\n",
      "  df = pd.read_sas(\"./dataset/LLCP2021.XPT\")\n",
      "C:\\Users\\Bagus_Raka\\AppData\\Local\\Temp\\ipykernel_3992\\3495794759.py:3: PerformanceWarning: DataFrame is highly fragmented.  This is usually the result of calling `frame.insert` many times, which has poor performance.  Consider joining all columns at once using pd.concat(axis=1) instead. To get a de-fragmented frame, use `newframe = frame.copy()`\n",
      "  df = pd.read_sas(\"./dataset/LLCP2021.XPT\")\n",
      "C:\\Users\\Bagus_Raka\\AppData\\Local\\Temp\\ipykernel_3992\\3495794759.py:3: PerformanceWarning: DataFrame is highly fragmented.  This is usually the result of calling `frame.insert` many times, which has poor performance.  Consider joining all columns at once using pd.concat(axis=1) instead. To get a de-fragmented frame, use `newframe = frame.copy()`\n",
      "  df = pd.read_sas(\"./dataset/LLCP2021.XPT\")\n",
      "C:\\Users\\Bagus_Raka\\AppData\\Local\\Temp\\ipykernel_3992\\3495794759.py:3: PerformanceWarning: DataFrame is highly fragmented.  This is usually the result of calling `frame.insert` many times, which has poor performance.  Consider joining all columns at once using pd.concat(axis=1) instead. To get a de-fragmented frame, use `newframe = frame.copy()`\n",
      "  df = pd.read_sas(\"./dataset/LLCP2021.XPT\")\n",
      "C:\\Users\\Bagus_Raka\\AppData\\Local\\Temp\\ipykernel_3992\\3495794759.py:3: PerformanceWarning: DataFrame is highly fragmented.  This is usually the result of calling `frame.insert` many times, which has poor performance.  Consider joining all columns at once using pd.concat(axis=1) instead. To get a de-fragmented frame, use `newframe = frame.copy()`\n",
      "  df = pd.read_sas(\"./dataset/LLCP2021.XPT\")\n",
      "C:\\Users\\Bagus_Raka\\AppData\\Local\\Temp\\ipykernel_3992\\3495794759.py:3: PerformanceWarning: DataFrame is highly fragmented.  This is usually the result of calling `frame.insert` many times, which has poor performance.  Consider joining all columns at once using pd.concat(axis=1) instead. To get a de-fragmented frame, use `newframe = frame.copy()`\n",
      "  df = pd.read_sas(\"./dataset/LLCP2021.XPT\")\n",
      "C:\\Users\\Bagus_Raka\\AppData\\Local\\Temp\\ipykernel_3992\\3495794759.py:3: PerformanceWarning: DataFrame is highly fragmented.  This is usually the result of calling `frame.insert` many times, which has poor performance.  Consider joining all columns at once using pd.concat(axis=1) instead. To get a de-fragmented frame, use `newframe = frame.copy()`\n",
      "  df = pd.read_sas(\"./dataset/LLCP2021.XPT\")\n",
      "C:\\Users\\Bagus_Raka\\AppData\\Local\\Temp\\ipykernel_3992\\3495794759.py:3: PerformanceWarning: DataFrame is highly fragmented.  This is usually the result of calling `frame.insert` many times, which has poor performance.  Consider joining all columns at once using pd.concat(axis=1) instead. To get a de-fragmented frame, use `newframe = frame.copy()`\n",
      "  df = pd.read_sas(\"./dataset/LLCP2021.XPT\")\n",
      "C:\\Users\\Bagus_Raka\\AppData\\Local\\Temp\\ipykernel_3992\\3495794759.py:3: PerformanceWarning: DataFrame is highly fragmented.  This is usually the result of calling `frame.insert` many times, which has poor performance.  Consider joining all columns at once using pd.concat(axis=1) instead. To get a de-fragmented frame, use `newframe = frame.copy()`\n",
      "  df = pd.read_sas(\"./dataset/LLCP2021.XPT\")\n",
      "C:\\Users\\Bagus_Raka\\AppData\\Local\\Temp\\ipykernel_3992\\3495794759.py:3: PerformanceWarning: DataFrame is highly fragmented.  This is usually the result of calling `frame.insert` many times, which has poor performance.  Consider joining all columns at once using pd.concat(axis=1) instead. To get a de-fragmented frame, use `newframe = frame.copy()`\n",
      "  df = pd.read_sas(\"./dataset/LLCP2021.XPT\")\n",
      "C:\\Users\\Bagus_Raka\\AppData\\Local\\Temp\\ipykernel_3992\\3495794759.py:3: PerformanceWarning: DataFrame is highly fragmented.  This is usually the result of calling `frame.insert` many times, which has poor performance.  Consider joining all columns at once using pd.concat(axis=1) instead. To get a de-fragmented frame, use `newframe = frame.copy()`\n",
      "  df = pd.read_sas(\"./dataset/LLCP2021.XPT\")\n",
      "C:\\Users\\Bagus_Raka\\AppData\\Local\\Temp\\ipykernel_3992\\3495794759.py:3: PerformanceWarning: DataFrame is highly fragmented.  This is usually the result of calling `frame.insert` many times, which has poor performance.  Consider joining all columns at once using pd.concat(axis=1) instead. To get a de-fragmented frame, use `newframe = frame.copy()`\n",
      "  df = pd.read_sas(\"./dataset/LLCP2021.XPT\")\n",
      "C:\\Users\\Bagus_Raka\\AppData\\Local\\Temp\\ipykernel_3992\\3495794759.py:3: PerformanceWarning: DataFrame is highly fragmented.  This is usually the result of calling `frame.insert` many times, which has poor performance.  Consider joining all columns at once using pd.concat(axis=1) instead. To get a de-fragmented frame, use `newframe = frame.copy()`\n",
      "  df = pd.read_sas(\"./dataset/LLCP2021.XPT\")\n",
      "C:\\Users\\Bagus_Raka\\AppData\\Local\\Temp\\ipykernel_3992\\3495794759.py:3: PerformanceWarning: DataFrame is highly fragmented.  This is usually the result of calling `frame.insert` many times, which has poor performance.  Consider joining all columns at once using pd.concat(axis=1) instead. To get a de-fragmented frame, use `newframe = frame.copy()`\n",
      "  df = pd.read_sas(\"./dataset/LLCP2021.XPT\")\n",
      "C:\\Users\\Bagus_Raka\\AppData\\Local\\Temp\\ipykernel_3992\\3495794759.py:3: PerformanceWarning: DataFrame is highly fragmented.  This is usually the result of calling `frame.insert` many times, which has poor performance.  Consider joining all columns at once using pd.concat(axis=1) instead. To get a de-fragmented frame, use `newframe = frame.copy()`\n",
      "  df = pd.read_sas(\"./dataset/LLCP2021.XPT\")\n",
      "C:\\Users\\Bagus_Raka\\AppData\\Local\\Temp\\ipykernel_3992\\3495794759.py:3: PerformanceWarning: DataFrame is highly fragmented.  This is usually the result of calling `frame.insert` many times, which has poor performance.  Consider joining all columns at once using pd.concat(axis=1) instead. To get a de-fragmented frame, use `newframe = frame.copy()`\n",
      "  df = pd.read_sas(\"./dataset/LLCP2021.XPT\")\n",
      "C:\\Users\\Bagus_Raka\\AppData\\Local\\Temp\\ipykernel_3992\\3495794759.py:3: PerformanceWarning: DataFrame is highly fragmented.  This is usually the result of calling `frame.insert` many times, which has poor performance.  Consider joining all columns at once using pd.concat(axis=1) instead. To get a de-fragmented frame, use `newframe = frame.copy()`\n",
      "  df = pd.read_sas(\"./dataset/LLCP2021.XPT\")\n",
      "C:\\Users\\Bagus_Raka\\AppData\\Local\\Temp\\ipykernel_3992\\3495794759.py:3: PerformanceWarning: DataFrame is highly fragmented.  This is usually the result of calling `frame.insert` many times, which has poor performance.  Consider joining all columns at once using pd.concat(axis=1) instead. To get a de-fragmented frame, use `newframe = frame.copy()`\n",
      "  df = pd.read_sas(\"./dataset/LLCP2021.XPT\")\n",
      "C:\\Users\\Bagus_Raka\\AppData\\Local\\Temp\\ipykernel_3992\\3495794759.py:3: PerformanceWarning: DataFrame is highly fragmented.  This is usually the result of calling `frame.insert` many times, which has poor performance.  Consider joining all columns at once using pd.concat(axis=1) instead. To get a de-fragmented frame, use `newframe = frame.copy()`\n",
      "  df = pd.read_sas(\"./dataset/LLCP2021.XPT\")\n",
      "C:\\Users\\Bagus_Raka\\AppData\\Local\\Temp\\ipykernel_3992\\3495794759.py:3: PerformanceWarning: DataFrame is highly fragmented.  This is usually the result of calling `frame.insert` many times, which has poor performance.  Consider joining all columns at once using pd.concat(axis=1) instead. To get a de-fragmented frame, use `newframe = frame.copy()`\n",
      "  df = pd.read_sas(\"./dataset/LLCP2021.XPT\")\n"
     ]
    }
   ],
   "source": [
    "import pandas as pd\n",
    "\n",
    "df = pd.read_sas(\"./dataset/LLCP2021.XPT\")"
   ]
  },
  {
   "cell_type": "code",
   "execution_count": 26,
   "metadata": {},
   "outputs": [
    {
     "data": {
      "text/html": [
       "<div>\n",
       "<style scoped>\n",
       "    .dataframe tbody tr th:only-of-type {\n",
       "        vertical-align: middle;\n",
       "    }\n",
       "\n",
       "    .dataframe tbody tr th {\n",
       "        vertical-align: top;\n",
       "    }\n",
       "\n",
       "    .dataframe thead th {\n",
       "        text-align: right;\n",
       "    }\n",
       "</style>\n",
       "<table border=\"1\" class=\"dataframe\">\n",
       "  <thead>\n",
       "    <tr style=\"text-align: right;\">\n",
       "      <th></th>\n",
       "      <th>_STATE</th>\n",
       "      <th>FMONTH</th>\n",
       "      <th>IDATE</th>\n",
       "      <th>IMONTH</th>\n",
       "      <th>IDAY</th>\n",
       "      <th>IYEAR</th>\n",
       "      <th>DISPCODE</th>\n",
       "      <th>SEQNO</th>\n",
       "      <th>_PSU</th>\n",
       "      <th>CTELENM1</th>\n",
       "      <th>...</th>\n",
       "      <th>_FRTRES1</th>\n",
       "      <th>_VEGRES1</th>\n",
       "      <th>_FRUTSU1</th>\n",
       "      <th>_VEGESU1</th>\n",
       "      <th>_FRTLT1A</th>\n",
       "      <th>_VEGLT1A</th>\n",
       "      <th>_FRT16A</th>\n",
       "      <th>_VEG23A</th>\n",
       "      <th>_FRUITE1</th>\n",
       "      <th>_VEGETE1</th>\n",
       "    </tr>\n",
       "  </thead>\n",
       "  <tbody>\n",
       "    <tr>\n",
       "      <th>0</th>\n",
       "      <td>1.0</td>\n",
       "      <td>1.0</td>\n",
       "      <td>b'01192021'</td>\n",
       "      <td>b'01'</td>\n",
       "      <td>b'19'</td>\n",
       "      <td>b'2021'</td>\n",
       "      <td>1100.0</td>\n",
       "      <td>b'2021000001'</td>\n",
       "      <td>2.021000e+09</td>\n",
       "      <td>1.0</td>\n",
       "      <td>...</td>\n",
       "      <td>1.0</td>\n",
       "      <td>1.0</td>\n",
       "      <td>100.0</td>\n",
       "      <td>214.0</td>\n",
       "      <td>1.0</td>\n",
       "      <td>1.0</td>\n",
       "      <td>1.0</td>\n",
       "      <td>1.0</td>\n",
       "      <td>5.397605e-79</td>\n",
       "      <td>5.397605e-79</td>\n",
       "    </tr>\n",
       "    <tr>\n",
       "      <th>1</th>\n",
       "      <td>1.0</td>\n",
       "      <td>1.0</td>\n",
       "      <td>b'01212021'</td>\n",
       "      <td>b'01'</td>\n",
       "      <td>b'21'</td>\n",
       "      <td>b'2021'</td>\n",
       "      <td>1100.0</td>\n",
       "      <td>b'2021000002'</td>\n",
       "      <td>2.021000e+09</td>\n",
       "      <td>1.0</td>\n",
       "      <td>...</td>\n",
       "      <td>1.0</td>\n",
       "      <td>1.0</td>\n",
       "      <td>100.0</td>\n",
       "      <td>128.0</td>\n",
       "      <td>1.0</td>\n",
       "      <td>1.0</td>\n",
       "      <td>1.0</td>\n",
       "      <td>1.0</td>\n",
       "      <td>5.397605e-79</td>\n",
       "      <td>5.397605e-79</td>\n",
       "    </tr>\n",
       "    <tr>\n",
       "      <th>2</th>\n",
       "      <td>1.0</td>\n",
       "      <td>1.0</td>\n",
       "      <td>b'01212021'</td>\n",
       "      <td>b'01'</td>\n",
       "      <td>b'21'</td>\n",
       "      <td>b'2021'</td>\n",
       "      <td>1100.0</td>\n",
       "      <td>b'2021000003'</td>\n",
       "      <td>2.021000e+09</td>\n",
       "      <td>1.0</td>\n",
       "      <td>...</td>\n",
       "      <td>1.0</td>\n",
       "      <td>1.0</td>\n",
       "      <td>100.0</td>\n",
       "      <td>71.0</td>\n",
       "      <td>1.0</td>\n",
       "      <td>2.0</td>\n",
       "      <td>1.0</td>\n",
       "      <td>1.0</td>\n",
       "      <td>5.397605e-79</td>\n",
       "      <td>5.397605e-79</td>\n",
       "    </tr>\n",
       "    <tr>\n",
       "      <th>3</th>\n",
       "      <td>1.0</td>\n",
       "      <td>1.0</td>\n",
       "      <td>b'01172021'</td>\n",
       "      <td>b'01'</td>\n",
       "      <td>b'17'</td>\n",
       "      <td>b'2021'</td>\n",
       "      <td>1100.0</td>\n",
       "      <td>b'2021000004'</td>\n",
       "      <td>2.021000e+09</td>\n",
       "      <td>1.0</td>\n",
       "      <td>...</td>\n",
       "      <td>1.0</td>\n",
       "      <td>1.0</td>\n",
       "      <td>114.0</td>\n",
       "      <td>165.0</td>\n",
       "      <td>1.0</td>\n",
       "      <td>1.0</td>\n",
       "      <td>1.0</td>\n",
       "      <td>1.0</td>\n",
       "      <td>5.397605e-79</td>\n",
       "      <td>5.397605e-79</td>\n",
       "    </tr>\n",
       "    <tr>\n",
       "      <th>4</th>\n",
       "      <td>1.0</td>\n",
       "      <td>1.0</td>\n",
       "      <td>b'01152021'</td>\n",
       "      <td>b'01'</td>\n",
       "      <td>b'15'</td>\n",
       "      <td>b'2021'</td>\n",
       "      <td>1100.0</td>\n",
       "      <td>b'2021000005'</td>\n",
       "      <td>2.021000e+09</td>\n",
       "      <td>1.0</td>\n",
       "      <td>...</td>\n",
       "      <td>1.0</td>\n",
       "      <td>1.0</td>\n",
       "      <td>100.0</td>\n",
       "      <td>258.0</td>\n",
       "      <td>1.0</td>\n",
       "      <td>1.0</td>\n",
       "      <td>1.0</td>\n",
       "      <td>1.0</td>\n",
       "      <td>5.397605e-79</td>\n",
       "      <td>5.397605e-79</td>\n",
       "    </tr>\n",
       "  </tbody>\n",
       "</table>\n",
       "<p>5 rows × 303 columns</p>\n",
       "</div>"
      ],
      "text/plain": [
       "   _STATE  FMONTH        IDATE IMONTH   IDAY    IYEAR  DISPCODE  \\\n",
       "0     1.0     1.0  b'01192021'  b'01'  b'19'  b'2021'    1100.0   \n",
       "1     1.0     1.0  b'01212021'  b'01'  b'21'  b'2021'    1100.0   \n",
       "2     1.0     1.0  b'01212021'  b'01'  b'21'  b'2021'    1100.0   \n",
       "3     1.0     1.0  b'01172021'  b'01'  b'17'  b'2021'    1100.0   \n",
       "4     1.0     1.0  b'01152021'  b'01'  b'15'  b'2021'    1100.0   \n",
       "\n",
       "           SEQNO          _PSU  CTELENM1  ...  _FRTRES1  _VEGRES1  _FRUTSU1  \\\n",
       "0  b'2021000001'  2.021000e+09       1.0  ...       1.0       1.0     100.0   \n",
       "1  b'2021000002'  2.021000e+09       1.0  ...       1.0       1.0     100.0   \n",
       "2  b'2021000003'  2.021000e+09       1.0  ...       1.0       1.0     100.0   \n",
       "3  b'2021000004'  2.021000e+09       1.0  ...       1.0       1.0     114.0   \n",
       "4  b'2021000005'  2.021000e+09       1.0  ...       1.0       1.0     100.0   \n",
       "\n",
       "   _VEGESU1  _FRTLT1A  _VEGLT1A  _FRT16A  _VEG23A      _FRUITE1      _VEGETE1  \n",
       "0     214.0       1.0       1.0      1.0      1.0  5.397605e-79  5.397605e-79  \n",
       "1     128.0       1.0       1.0      1.0      1.0  5.397605e-79  5.397605e-79  \n",
       "2      71.0       1.0       2.0      1.0      1.0  5.397605e-79  5.397605e-79  \n",
       "3     165.0       1.0       1.0      1.0      1.0  5.397605e-79  5.397605e-79  \n",
       "4     258.0       1.0       1.0      1.0      1.0  5.397605e-79  5.397605e-79  \n",
       "\n",
       "[5 rows x 303 columns]"
      ]
     },
     "execution_count": 26,
     "metadata": {},
     "output_type": "execute_result"
    }
   ],
   "source": [
    "df.head()"
   ]
  },
  {
   "cell_type": "markdown",
   "metadata": {},
   "source": [
    "## SAS XPT Data Checking"
   ]
  },
  {
   "cell_type": "markdown",
   "metadata": {},
   "source": [
    "Furthermore, when checking related to empty data in this dataset, it is found as follows"
   ]
  },
  {
   "cell_type": "code",
   "execution_count": 27,
   "metadata": {},
   "outputs": [
    {
     "data": {
      "text/plain": [
       "_STATE       0.000000\n",
       "FMONTH       0.000000\n",
       "IDATE        0.000000\n",
       "IMONTH       0.000000\n",
       "IDAY         0.000000\n",
       "IYEAR        0.000000\n",
       "DISPCODE     0.000000\n",
       "SEQNO        0.000000\n",
       "_PSU         0.000000\n",
       "CTELENM1    73.150700\n",
       "PVTRESD1    73.150700\n",
       "COLGHOUS    99.993162\n",
       "STATERE1    73.150700\n",
       "CELPHON1    73.150700\n",
       "LADULT1     73.150700\n",
       "COLGSEX     99.993162\n",
       "NUMADULT    73.155031\n",
       "LANDSEX     88.637612\n",
       "NUMMEN      85.083418\n",
       "NUMWOMEN    85.083418\n",
       "RESPSLCT    85.259851\n",
       "SAFETIME    26.849300\n",
       "CTELNUM1    26.849528\n",
       "CELLFON5    26.849300\n",
       "CADULT1     26.849300\n",
       "CELLSEX     26.849756\n",
       "PVTRESD3    26.849300\n",
       "CCLGHOUS    99.713923\n",
       "CSTATE1     26.849300\n",
       "LANDLINE    26.849300\n",
       "HHADULT     26.849756\n",
       "SEXVAR       0.000000\n",
       "GENHLTH      0.000912\n",
       "PHYSHLTH     0.000684\n",
       "MENTHLTH     0.000456\n",
       "POORHLTH    46.793316\n",
       "PRIMINSR     0.000684\n",
       "PERSDOC3     0.000456\n",
       "MEDCOST1     0.001140\n",
       "CHECKUP1     0.000456\n",
       "EXERANY2     0.000456\n",
       "BPHIGH6      0.000456\n",
       "BPMEDS      60.762310\n",
       "CHOLCHK3     0.000456\n",
       "TOLDHI3     13.867557\n",
       "CHOLMED3    14.035100\n",
       "CVDINFR4     0.000456\n",
       "CVDCRHD4     0.000456\n",
       "CVDSTRK3     0.000456\n",
       "ASTHMA3      0.000456\n",
       "dtype: float64"
      ]
     },
     "execution_count": 27,
     "metadata": {},
     "output_type": "execute_result"
    }
   ],
   "source": [
    "percent_missing = df.isnull().sum() * 100 / len(df)\n",
    "percent_missing[:50]"
   ]
  },
  {
   "cell_type": "code",
   "execution_count": 28,
   "metadata": {},
   "outputs": [
    {
     "data": {
      "text/plain": [
       "ASTHNOW     85.980629\n",
       "CHCSCNCR     0.000456\n",
       "CHCOCNCR     0.000684\n",
       "CHCCOPD3     0.000684\n",
       "ADDEPEV3     0.000684\n",
       "CHCKDNY2     0.000684\n",
       "DIABETE4     0.000684\n",
       "DIABAGE3    86.866670\n",
       "HAVARTH5     0.000684\n",
       "ARTHEXER    67.507802\n",
       "ARTHEDU     67.507802\n",
       "LMTJOIN3    67.507802\n",
       "ARTHDIS2    67.508030\n",
       "JOINPAI2    67.508257\n",
       "MARITAL      0.001140\n",
       "EDUCA        0.001140\n",
       "RENTHOM1     0.001824\n",
       "NUMHHOL3    73.151384\n",
       "NUMPHON3    92.748232\n",
       "CPDEMO1B     0.066561\n",
       "VETERAN3     0.372926\n",
       "EMPLOY1      0.817884\n",
       "CHILDREN     1.398472\n",
       "INCOME3      2.016672\n",
       "PREGNANT    81.610830\n",
       "WEIGHT2      2.693455\n",
       "HEIGHT3      2.954002\n",
       "DEAF         3.328524\n",
       "BLIND        3.588842\n",
       "DECIDE       3.839359\n",
       "DIFFWALK     4.105149\n",
       "DIFFDRES     4.282266\n",
       "DIFFALON     4.525488\n",
       "SMOKE100     4.839831\n",
       "SMOKDAY2    61.829115\n",
       "USENOW3      5.012389\n",
       "ECIGNOW1     5.248545\n",
       "ALCDAY5      5.581808\n",
       "AVEDRNK3    52.034338\n",
       "DRNK3GE5    52.170424\n",
       "MAXDRNKS    52.298532\n",
       "FLUSHOT7     6.302357\n",
       "FLSHTMY3    51.757607\n",
       "IMFVPLA2    52.496849\n",
       "PNEUVAC4     6.630377\n",
       "HIVTST7      6.872916\n",
       "HIVTSTD3    70.641200\n",
       "FRUIT2       7.790186\n",
       "FRUITJU2     8.151942\n",
       "FVGREEN1     8.433004\n",
       "dtype: float64"
      ]
     },
     "execution_count": 28,
     "metadata": {},
     "output_type": "execute_result"
    }
   ],
   "source": [
    "percent_missing[50:100]"
   ]
  },
  {
   "cell_type": "code",
   "execution_count": 29,
   "metadata": {},
   "outputs": [
    {
     "data": {
      "text/plain": [
       "FRENCHF1      8.687396\n",
       "POTATOE1      8.959796\n",
       "VEGETAB2      9.258183\n",
       "PDIABTST     73.872845\n",
       "PREDIAB1     73.873073\n",
       "INSULIN1     94.930851\n",
       "BLDSUGAR     94.930623\n",
       "FEETCHK3     94.931991\n",
       "DOCTDIAB     94.932675\n",
       "CHKHEMO3     94.932903\n",
       "FEETCHK      94.970743\n",
       "EYEEXAM1     94.933815\n",
       "DIABEYE      94.934499\n",
       "DIABEDU      94.934727\n",
       "TOLDCFS     100.000000\n",
       "HAVECFS     100.000000\n",
       "WORKCFS     100.000000\n",
       "TOLDHEPC     97.537230\n",
       "TRETHEPC     99.963072\n",
       "PRIRHEPC     99.963072\n",
       "HAVEHEPC     99.963072\n",
       "HAVEHEPB     97.542929\n",
       "MEDSHEPB     99.978345\n",
       "HPVADVC4     96.965076\n",
       "HPVADSHT     99.427846\n",
       "TETANUS1     96.608790\n",
       "SHINGLE2     96.910824\n",
       "LCSFIRST     97.144472\n",
       "LCSLAST      97.237704\n",
       "LCSNUMCG     97.242035\n",
       "LCSCTSCN     93.124805\n",
       "HADMAM       97.829234\n",
       "HOWLONG      98.300406\n",
       "CERVSCRN     97.832653\n",
       "CRVCLCNC     98.886921\n",
       "CRVCLPAP     98.895355\n",
       "CRVCLHPV     98.891252\n",
       "HADHYST2     97.857271\n",
       "PSATEST1     99.486657\n",
       "PSATIME1     99.744696\n",
       "PCPSARS2     99.744924\n",
       "PCSTALK      99.745380\n",
       "HADSIGM4     98.227234\n",
       "COLNSIGM     98.721885\n",
       "COLNTES1     98.953482\n",
       "SIGMTES1     99.985639\n",
       "LASTSIG4     99.784131\n",
       "COLNCNCR     98.228602\n",
       "VIRCOLO1     99.631633\n",
       "VCLNTES1     99.953726\n",
       "dtype: float64"
      ]
     },
     "execution_count": 29,
     "metadata": {},
     "output_type": "execute_result"
    }
   ],
   "source": [
    "percent_missing[100:150]"
   ]
  },
  {
   "cell_type": "code",
   "execution_count": 30,
   "metadata": {},
   "outputs": [
    {
     "data": {
      "text/plain": [
       "SMALSTOL    99.631633\n",
       "STOLTEST    99.719394\n",
       "STOOLDN1    99.631861\n",
       "BLDSTFIT    99.911100\n",
       "SDNATES1    99.911100\n",
       "CNCRDIFF    97.728936\n",
       "CNCRAGE     97.766775\n",
       "CNCRTYP1    97.768827\n",
       "CSRVTRT3    98.331635\n",
       "CSRVDOC1    98.987447\n",
       "CSRVSUM     98.989042\n",
       "CSRVRTRN    98.990182\n",
       "CSRVINST    99.229757\n",
       "CSRVINSR    98.991094\n",
       "CSRVDEIN    98.991550\n",
       "CSRVCLIN    98.992234\n",
       "CSRVPAIN    97.944804\n",
       "CSRVCTL2    99.806015\n",
       "HOMBPCHK    71.278092\n",
       "HOMRGCHK    71.285386\n",
       "WHEREBP     90.987319\n",
       "SHAREBP     90.990282\n",
       "WTCHSALT    91.768959\n",
       "DRADVISE    91.775570\n",
       "CIMEMLOS    92.443235\n",
       "CDHOUSE     99.004087\n",
       "CDASSIST    99.005911\n",
       "CDHELP      99.708452\n",
       "CDSOCIAL    99.008190\n",
       "CDDISCUS    99.009558\n",
       "CAREGIV1    57.093457\n",
       "CRGVREL4    91.155318\n",
       "CRGVLNG1    91.174466\n",
       "CRGVHRS1    91.194070\n",
       "CRGVPRB3    91.220740\n",
       "CRGVALZD    92.096067\n",
       "CRGVPER1    91.260403\n",
       "CRGVHOU1    91.276132\n",
       "CRGVEXPT    66.079468\n",
       "ACEDEPRS    86.604983\n",
       "ACEDRINK    86.631426\n",
       "ACEDRUGS    86.638264\n",
       "ACEPRISN    86.646926\n",
       "ACEDIVRC    86.654221\n",
       "ACEPUNCH    86.663794\n",
       "ACEHURT1    86.673824\n",
       "ACESWEAR    86.684082\n",
       "ACETOUCH    86.696163\n",
       "ACETTHEM    86.706193\n",
       "ACEHVSEX    86.715539\n",
       "dtype: float64"
      ]
     },
     "execution_count": 30,
     "metadata": {},
     "output_type": "execute_result"
    }
   ],
   "source": [
    "percent_missing[150:200]"
   ]
  },
  {
   "cell_type": "code",
   "execution_count": 31,
   "metadata": {},
   "outputs": [
    {
     "data": {
      "text/plain": [
       "ACEADSAF    86.731952\n",
       "ACEADNED    86.743349\n",
       "MARIJAN1    68.643220\n",
       "USEMRJN3    96.912191\n",
       "RSNMRJN2    96.915383\n",
       "LASTSMK2    88.180117\n",
       "STOPSMK2    94.515071\n",
       "FIREARM5    93.032029\n",
       "GUNLOAD     97.229498\n",
       "LOADULK2    99.015941\n",
       "RCSGENDR    86.993866\n",
       "RCSRLTN2    87.079803\n",
       "CASTHDX2    87.504018\n",
       "CASTHNO2    98.685641\n",
       "BIRTHSEX    77.546485\n",
       "SOMALE      73.975194\n",
       "SOFEMALE    70.065855\n",
       "TRNSGNDR    43.982694\n",
       "QSTVER       0.000000\n",
       "QSTLANG      0.000000\n",
       "_METSTAT     1.607958\n",
       "_URBSTAT     1.607958\n",
       "MSCODE      73.563973\n",
       "_STSTR       0.000000\n",
       "_STRWT       0.000000\n",
       "_RAWRAKE     0.000000\n",
       "_WT2RAKE     0.000000\n",
       "_IMPRACE     0.000000\n",
       "_CHISPNC    28.908371\n",
       "_CRACE1     86.391622\n",
       "_CPRACE1    86.391622\n",
       "CAGEG       88.926197\n",
       "_CLLCPWT    86.985432\n",
       "_DUALUSE     0.000000\n",
       "_DUALCOR    60.398730\n",
       "_LLCPWT2     0.000000\n",
       "_LLCPWT      0.000000\n",
       "_RFHLTH      0.000000\n",
       "_PHYS14D     0.000000\n",
       "_MENT14D     0.000000\n",
       "_HLTHPLN     0.000000\n",
       "_HCVU652     0.000000\n",
       "_TOTINDA     0.000000\n",
       "_RFHYPE6     0.000000\n",
       "_CHOLCH3     0.000000\n",
       "_RFCHOL3    13.939361\n",
       "_MICHD       1.056548\n",
       "_LTASTH1     0.000000\n",
       "_CASTHM1     0.000000\n",
       "_ASTHMS1     0.000000\n",
       "dtype: float64"
      ]
     },
     "execution_count": 31,
     "metadata": {},
     "output_type": "execute_result"
    }
   ],
   "source": [
    "percent_missing[200:250]"
   ]
  },
  {
   "cell_type": "code",
   "execution_count": 32,
   "metadata": {},
   "outputs": [
    {
     "data": {
      "text/plain": [
       "_DRDXAR3     0.660143\n",
       "_LMTACT3     0.660143\n",
       "_LMTWRK3     0.660143\n",
       "_PRACE1      0.000912\n",
       "_MRACE1      0.000912\n",
       "_HISPANC     0.000000\n",
       "_RACE        0.000000\n",
       "_RACEG21     0.000000\n",
       "_RACEGR3     0.000000\n",
       "_RACEPRV     0.000000\n",
       "_SEX         0.000000\n",
       "_AGEG5YR     0.000000\n",
       "_AGE65YR     0.000000\n",
       "_AGE80       0.000000\n",
       "_AGE_G       0.000000\n",
       "HTIN4        6.188838\n",
       "HTM4         5.598904\n",
       "WTKG3        9.252028\n",
       "_BMI5       10.679906\n",
       "_BMI5CAT    10.679906\n",
       "_RFBMI5      0.000000\n",
       "_CHLDCNT     0.000000\n",
       "_EDUCAG      0.000000\n",
       "_INCOMG1     0.000000\n",
       "_SMOKER3     0.000000\n",
       "_RFSMOK3     0.000000\n",
       "_CURECI1     0.000000\n",
       "DRNKANY5     0.000000\n",
       "DROCDY3_     0.000000\n",
       "_RFBING5     0.000000\n",
       "_DRNKWK1     0.000000\n",
       "_RFDRHV7     0.000000\n",
       "_FLSHOT7    62.948349\n",
       "_PNEUMO3    62.948349\n",
       "_AIDTST4     6.872916\n",
       "FTJUDA2_    10.109348\n",
       "FRUTDA2_    10.018624\n",
       "GRENDA1_    10.086781\n",
       "FRNCHDA_    10.204175\n",
       "POTADA1_    11.041890\n",
       "VEGEDA2_    11.061950\n",
       "_MISFRT1     0.000000\n",
       "_MISVEG1     0.000000\n",
       "_FRTRES1     0.000000\n",
       "_VEGRES1     0.000000\n",
       "_FRUTSU1    11.645274\n",
       "_VEGESU1    13.705940\n",
       "_FRTLT1A     0.000000\n",
       "_VEGLT1A     0.000000\n",
       "_FRT16A      0.000000\n",
       "_VEG23A      0.000000\n",
       "_FRUITE1     0.000000\n",
       "_VEGETE1     0.000000\n",
       "dtype: float64"
      ]
     },
     "execution_count": 32,
     "metadata": {},
     "output_type": "execute_result"
    }
   ],
   "source": [
    "percent_missing[250:]"
   ]
  },
  {
   "cell_type": "markdown",
   "metadata": {},
   "source": [
    "## Data Cleaning Process"
   ]
  },
  {
   "cell_type": "markdown",
   "metadata": {},
   "source": [
    "### Data Filtering"
   ]
  },
  {
   "cell_type": "markdown",
   "metadata": {},
   "source": [
    "As mentioned earlier, we took only a few variables that could show how a person's lifestyle and health condition is. Based on reference [3](https://www.nhs.uk/conditions/cardiovascular-disease/), we also use several other variables that can be a possible risk of cardiovascular disease. The variables that we use are as follows\n",
    "1. GENHLTH \n",
    "- Q : Would you say that in general your health is- \n",
    "- A: 1 Excellent, 2 Very Good, 3 Good, 4 Fair, 5 Poor, 7 Don't know/Not sure, 9 Refused\n",
    "2. PHYSHLTH\n",
    "- Q : Now thinking about your physical health, which includes physical illness and injury, for how many days during the past 30 days was your physical health not good?\n",
    "- A : _ _ Number of days (01-30), 88 None, 77 Don’t know/not sure, 99 Refused\n",
    "3. MENTHLTH\n",
    "- Q : Now thinking about your mental health, which includes stress, depression, and problems with emotions, for how many days during the past 30 days was your mental health not good?\n",
    "- A : _ _ Number of days (01-30), 88 None, 77 Don’t know/not sure, 99 Refused\n",
    "4. POORHLTH\n",
    "- Q : During the past 30 days, for about how many days did poor physical or mental health keep you from doing your usual activities, such as self-care, work, or recreation? \n",
    "- A : _ _ Number of days (01-30), 88 None, 77 Don’t know/not sure, 99 Refused\n",
    "5. CHECKUP1\n",
    "- Q : About how long has it been since you last visited a doctor for a routine checkup?\n",
    "- A : 1 Within the past year (anytime less than 12 months ago), 2 Within the past, 2 years (1 year but less than 2 years ago), 3 Within the past, 5 years (2 years but less than 5 years ago), 4 5 or more years ago, 7 Don’t know / Not sure, 8 Never, 9 Refused\n",
    "6. EXERANY2\n",
    "- Q : During the past month, other than your regular job, did you participate in any physical activities or exercises such as running, calisthenics, golf, gardening, or walking for exercise?\n",
    "- A : 1 Yes, 2 No, 7 Don’t know / Not sure, 9 Refused\n",
    "7. BPHIGH6\n",
    "- Q : Have you ever been told by a doctor, nurse, or other health professional that you have high blood pressure?\n",
    "- A : 1 Yes, 2 Yes, but female told only during pregnancy, 3 No, 4 Told borderline high or pre- hypertensive or elevated blood pressure, 7 Don’t know / Not sure, 9 Refused\n",
    "8. TOLDHI3\n",
    "- Q : Have you ever been told by a doctor, nurse or other health professional that your cholesterol is high?\n",
    "- A : 1 Yes, 2 No, 7 Don’t know / Not sure, 9 Refused\n",
    "9. CVDINFR4\n",
    "- Q : Ever told you that you had a heart attack also called a myocardial infarction?\n",
    "- A : 1 Yes, 2 No, 7 Don’t know / Not sure, 9 Refused\n",
    "10. CVDCRHD4\n",
    "- Q : (Ever told) (you had) angina or coronary heart disease?\n",
    "- A : 1 Yes, 2 No, 7 Don’t know / Not sure, 9 Refused\n",
    "11. CVDSTRK3\n",
    "- Q : (Ever told) (you had) a stroke?\n",
    "- A : 1 Yes, 2 No, 7 Don’t know / Not sure, 9 Refused\n",
    "12. DIABETE4\n",
    "- Q : (Ever told) (you had) diabetes?\n",
    "- A : 1 Yes, 2 Yes, but female told only during pregnancy, 3 No, 4 No, pre- diabetes or borderline diabetes, 7 Don’t know / Not sure, 9 Refused\n",
    "13. DIABAGE3\n",
    "- Q : How old were you when you were told you had diabetes?\n",
    "- A : _ _ Code age in years [97 = 97 and older], 98 Don‘t know / Not sure, 99 Refused\n",
    "14. AGE\n",
    "- Q : What is your age?\n",
    "- A : _ _ Code age in years, 07 Don’t know / Not sure, 09 Refused\n",
    "15. WEIGHT2\n",
    "- Q : About how much do you weigh without shoes?\n",
    "- A : _ _ _ _ Weight (pounds/kilograms), 7777 Don’t know / Not sure, 9999 Refused\n",
    "16. HEIGHT3\n",
    "- Q : About how tall are you without shoes?\n",
    "- A : _ _ / _ _ Height (ft / inches/meters/centimeters) 77/ 77 Don’t know / Not sure 99 / 99 Refused\n",
    "17. SMOKE100\n",
    "- Q : Have you smoked at least 100 cigarettes in your entire life?\n",
    "- A : 1 Yes, 2 No, 7 Don’t know/Not Sure, 9 Refused\n",
    "18. SMOKDAY2\n",
    "- Q : Do you now smoke cigarettes every day, some days, or not at all?\n",
    "- A : 1 Every day, 2 Some days, 3 Not at all, 7 Don’t know / Not sure, 9 Refused\n",
    "19. USENOW3\n",
    "- Q : Do you currently use chewing tobacco, snuff, or snus every day, some days, or not at all?\n",
    "- A : 1 Every day, 2 Some days, 3 Not at all, 7 Don’t know / Not sure, 9 Refused\n",
    "20. ECIGNOW1\n",
    "- Q : Do you now use e-cigarettes or other electronic vaping products every day, some days or not at all?\n",
    "- A : 1 Every day, 2 Some days, 3 Not at all, 4 Never used e-cigs, 7 Don’t know / Not sure, 9 Refused\n",
    "21. ALCDAY5\n",
    "- Q : During the past 30 days, how many days per week or per month did you have at least one drink of any alcoholic beverage such as beer, wine, a malt beverage or liquor?\n",
    "- A : 1 _ _ Days per week, 2 _ _ Days in past 30 days, 888 No drinks in past 30 days, 777 Don’t know / Not sure, 999 Refused\n",
    "22. AVEDRNK3\n",
    "- Q : One drink is equivalent to a 12-ounce beer, a 5-ounce glass of wine, or a drink with one shot of liquor. During the past 30 days, on the days when you drank, about how many drinks did you drink on the average?\n",
    "- A : _ _ Number of drinks, 88 None, 77 Don’t know / Not sure, 99 Refused\n",
    "23. DRNK3GE5\n",
    "- Q : Considering all types of alcoholic beverages, how many times during the past 30 days did you have X [CATI X = 5 for men, X = 4 for women] or more drinks on an occasion?\n",
    "- A : _ _ Number of times, 77 Don’t know / Not sure, 88 no days, 99 Refused\n",
    "24. MAXDRNKS\n",
    "- Q : During the past 30 days, what is the largest number of drinks you had on any occasion?\n",
    "- A : _ _ Number of drinks, 77 Don’t know / Not sure, 99 Refused\n",
    "25. FRUIT2\n",
    "- Q : Now think about the foods you ate or drank during the past month, that is, the past 30 days, including meals and snacks. Not including juices, how often did you eat fruit? You can tell me times per day, times per week or times per month.\n",
    "- A : 1_ _ Day, 2_ _ Week, 3_ _ Month, 300 Less than, once a month, 555 Never, 777 Don’t Know, 999 Refused\n",
    "26. FRUITJU2\n",
    "- Q : Not including fruit-flavored drinks or fruit juices with added sugar, how often did you drink 100% fruit juice such as apple or orange juice?\n",
    "- A : 1_ _ Day, 2_ _ Week, 3_ _ Month, 300 Less than, once a month, 555 Never, 777 Don’t Know, 999 Refused\n",
    "27. FVGREEN1\n",
    "- Q : How often did you eat a green leafy or lettuce salad, with or without other vegetables?\n",
    "- A : 1_ _ Day, 2_ _ Week, 3_ _ Month, 300 Less than once a month, 555 Never, 777 Don’t Know, 999 Refused\n",
    "28. FRENCHF1\n",
    "- Q : How often did you eat any kind of fried potatoes, including French fries, home fries, or hash browns?\n",
    "- A : 1_ _ Day, 2_ _ Week, 3_ _ Month, 300 Less than once a month, 555 Never, 777 Don’t Know, 999 Refused\n",
    "29. POTATOE1\n",
    "- Q : How often did you eat any other kind of potatoes, or sweet potatoes, such as baked, boiled, mashed potatoes, or potato salad?\n",
    "- A : 1_ _ Day, 2_ _ Week, 3_ _ Month, 300 Less than once a month, 555 Never, 777 Don’t Know, 999 Refused\n",
    "30. VEGETAB2\n",
    "- Q : Not including lettuce salads and potatoes, how often did you eat other vegetables?\n",
    "- A : 1_ _ Day, 2_ _ Week, 3_ _ Month, 300 Less than once a month, 555 Never, 777 Don’t Know, 999 Refused\n",
    "31. WTCHSALT\n",
    "- Q : Are you currently watching or reducing your sodium or salt intake?\n",
    "- A : 1 Yes, 2 No, 7 Don’t know/ Not sure, 9 Refused\n",
    "32. BIRTHSEX\n",
    "- Q : What was your sex at birth? Was it male or female?\n",
    "- A : 1 Male, 2 Female, 7 Don’t know/Not sure, 9 Refused"
   ]
  },
  {
   "cell_type": "code",
   "execution_count": 33,
   "metadata": {},
   "outputs": [],
   "source": [
    "df_clean = df[[\"GENHLTH\", \"PHYSHLTH\", \"MENTHLTH\", \"POORHLTH\", \"CHECKUP1\", \"EXERANY2\", \"BPHIGH6\", \"TOLDHI3\", \"CVDINFR4\", \"CVDCRHD4\", \"CVDSTRK3\", \"DIABETE4\", \"DIABAGE3\", \"_AGE80\", \"WEIGHT2\", \"HEIGHT3\", \"SMOKE100\", \"SMOKDAY2\", \"USENOW3\", \"ECIGNOW1\", \"ALCDAY5\", \"AVEDRNK3\", \"DRNK3GE5\", \"MAXDRNKS\", \"FRUIT2\", \"FRUITJU2\", \"FVGREEN1\", \"FRENCHF1\", \"POTATOE1\", \"VEGETAB2\", \"WTCHSALT\", \"BIRTHSEX\"]] "
   ]
  },
  {
   "cell_type": "code",
   "execution_count": 34,
   "metadata": {},
   "outputs": [
    {
     "name": "stdout",
     "output_type": "stream",
     "text": [
      "<class 'pandas.core.frame.DataFrame'>\n",
      "RangeIndex: 438693 entries, 0 to 438692\n",
      "Data columns (total 32 columns):\n",
      " #   Column    Non-Null Count   Dtype  \n",
      "---  ------    --------------   -----  \n",
      " 0   GENHLTH   438689 non-null  float64\n",
      " 1   PHYSHLTH  438690 non-null  float64\n",
      " 2   MENTHLTH  438691 non-null  float64\n",
      " 3   POORHLTH  233414 non-null  float64\n",
      " 4   CHECKUP1  438691 non-null  float64\n",
      " 5   EXERANY2  438691 non-null  float64\n",
      " 6   BPHIGH6   438691 non-null  float64\n",
      " 7   TOLDHI3   377857 non-null  float64\n",
      " 8   CVDINFR4  438691 non-null  float64\n",
      " 9   CVDCRHD4  438691 non-null  float64\n",
      " 10  CVDSTRK3  438691 non-null  float64\n",
      " 11  DIABETE4  438690 non-null  float64\n",
      " 12  DIABAGE3  57615 non-null   float64\n",
      " 13  _AGE80    438693 non-null  float64\n",
      " 14  WEIGHT2   426877 non-null  float64\n",
      " 15  HEIGHT3   425734 non-null  float64\n",
      " 16  SMOKE100  417461 non-null  float64\n",
      " 17  SMOKDAY2  167453 non-null  float64\n",
      " 18  USENOW3   416704 non-null  float64\n",
      " 19  ECIGNOW1  415668 non-null  float64\n",
      " 20  ALCDAY5   414206 non-null  float64\n",
      " 21  AVEDRNK3  210422 non-null  float64\n",
      " 22  DRNK3GE5  209825 non-null  float64\n",
      " 23  MAXDRNKS  209263 non-null  float64\n",
      " 24  FRUIT2    404518 non-null  float64\n",
      " 25  FRUITJU2  402931 non-null  float64\n",
      " 26  FVGREEN1  401698 non-null  float64\n",
      " 27  FRENCHF1  400582 non-null  float64\n",
      " 28  POTATOE1  399387 non-null  float64\n",
      " 29  VEGETAB2  398078 non-null  float64\n",
      " 30  WTCHSALT  36109 non-null   float64\n",
      " 31  BIRTHSEX  98502 non-null   float64\n",
      "dtypes: float64(32)\n",
      "memory usage: 107.1 MB\n"
     ]
    }
   ],
   "source": [
    "df_clean.info()"
   ]
  },
  {
   "cell_type": "markdown",
   "metadata": {},
   "source": [
    "### Filtered Data Checking"
   ]
  },
  {
   "cell_type": "markdown",
   "metadata": {},
   "source": [
    "We have to check if there is any missing data in the new data."
   ]
  },
  {
   "cell_type": "code",
   "execution_count": 35,
   "metadata": {},
   "outputs": [
    {
     "data": {
      "text/plain": [
       "GENHLTH      0.000912\n",
       "PHYSHLTH     0.000684\n",
       "MENTHLTH     0.000456\n",
       "POORHLTH    46.793316\n",
       "CHECKUP1     0.000456\n",
       "EXERANY2     0.000456\n",
       "BPHIGH6      0.000456\n",
       "TOLDHI3     13.867557\n",
       "CVDINFR4     0.000456\n",
       "CVDCRHD4     0.000456\n",
       "CVDSTRK3     0.000456\n",
       "DIABETE4     0.000684\n",
       "DIABAGE3    86.866670\n",
       "_AGE80       0.000000\n",
       "WEIGHT2      2.693455\n",
       "HEIGHT3      2.954002\n",
       "SMOKE100     4.839831\n",
       "SMOKDAY2    61.829115\n",
       "USENOW3      5.012389\n",
       "ECIGNOW1     5.248545\n",
       "ALCDAY5      5.581808\n",
       "AVEDRNK3    52.034338\n",
       "DRNK3GE5    52.170424\n",
       "MAXDRNKS    52.298532\n",
       "FRUIT2       7.790186\n",
       "FRUITJU2     8.151942\n",
       "FVGREEN1     8.433004\n",
       "FRENCHF1     8.687396\n",
       "POTATOE1     8.959796\n",
       "VEGETAB2     9.258183\n",
       "WTCHSALT    91.768959\n",
       "BIRTHSEX    77.546485\n",
       "dtype: float64"
      ]
     },
     "execution_count": 35,
     "metadata": {},
     "output_type": "execute_result"
    }
   ],
   "source": [
    "percent_missing = df_clean.isnull().sum() * 100 / len(df_clean)\n",
    "percent_missing"
   ]
  },
  {
   "cell_type": "markdown",
   "metadata": {},
   "source": [
    "### Further Data Cleaning"
   ]
  },
  {
   "cell_type": "markdown",
   "metadata": {},
   "source": [
    "We found that some of the variable has a big percentage of NaN value. List of the variables that has more than 50% NaN values as follows:\n",
    "- DIABAGE3: 86.866670\n",
    "- SMOKDAY2: 61.829115\n",
    "- AVEDRNK3: 52.034338\n",
    "- DRNK3GE5: 52.170424\n",
    "- MAXDRNKS: 52.298532\n",
    "- WTCHSALT: 91.768959\n",
    "- BIRTHSEX: 77.546485\n",
    "\n",
    "We need to address these issues. The choice is either not to use the variable or use a certain technique to fill in the missing variable. \n",
    "- If we look deeper, variables with a very large percentage of missing numbers such as DIABAGE3 and WTCHSALT should be dropped. \n",
    "- Especially for the BIRTHSEX variable, it turns out that there is a SEXVAR variable that seems to combine the three parts of the BIRTHSEX, CELLSEX and LANDSEX surveys, resulting in preprocessed data with a unique value of only 1 for men and 2 for women. This SEXVAR variable also has no NaN value. Therefore, BIRTHSEX can be replaced with SEXVAR. \n",
    "- Then for the SMOKDAY2 variable because it is far above 50%, we decided to drop it. Meanwhile, we will leave the variable whose percentage of missing values is still around 50%."
   ]
  },
  {
   "cell_type": "markdown",
   "metadata": {},
   "source": [
    "#### Checking SEXVAR Data"
   ]
  },
  {
   "cell_type": "code",
   "execution_count": 36,
   "metadata": {},
   "outputs": [
    {
     "data": {
      "text/plain": [
       "0"
      ]
     },
     "execution_count": 36,
     "metadata": {},
     "output_type": "execute_result"
    }
   ],
   "source": [
    "df[\"SEXVAR\"].isna().sum()"
   ]
  },
  {
   "cell_type": "code",
   "execution_count": 37,
   "metadata": {},
   "outputs": [
    {
     "data": {
      "text/plain": [
       "2.0    234883\n",
       "1.0    203810\n",
       "Name: SEXVAR, dtype: int64"
      ]
     },
     "execution_count": 37,
     "metadata": {},
     "output_type": "execute_result"
    }
   ],
   "source": [
    "df[\"SEXVAR\"].value_counts()"
   ]
  },
  {
   "cell_type": "markdown",
   "metadata": {},
   "source": [
    "#### Proceed the Data Cleaning Method"
   ]
  },
  {
   "cell_type": "code",
   "execution_count": 38,
   "metadata": {},
   "outputs": [
    {
     "name": "stderr",
     "output_type": "stream",
     "text": [
      "C:\\Users\\Bagus_Raka\\AppData\\Local\\Temp\\ipykernel_3992\\3859604402.py:1: SettingWithCopyWarning: \n",
      "A value is trying to be set on a copy of a slice from a DataFrame.\n",
      "Try using .loc[row_indexer,col_indexer] = value instead\n",
      "\n",
      "See the caveats in the documentation: https://pandas.pydata.org/pandas-docs/stable/user_guide/indexing.html#returning-a-view-versus-a-copy\n",
      "  df_clean[\"SEXVAR\"] = df[\"SEXVAR\"]\n",
      "C:\\Users\\Bagus_Raka\\AppData\\Local\\Temp\\ipykernel_3992\\3859604402.py:2: SettingWithCopyWarning: \n",
      "A value is trying to be set on a copy of a slice from a DataFrame\n",
      "\n",
      "See the caveats in the documentation: https://pandas.pydata.org/pandas-docs/stable/user_guide/indexing.html#returning-a-view-versus-a-copy\n",
      "  df_clean.drop([\"DIABAGE3\", \"WTCHSALT\", \"BIRTHSEX\", \"SMOKDAY2\"], axis=1, inplace=True)\n"
     ]
    },
    {
     "data": {
      "text/html": [
       "<div>\n",
       "<style scoped>\n",
       "    .dataframe tbody tr th:only-of-type {\n",
       "        vertical-align: middle;\n",
       "    }\n",
       "\n",
       "    .dataframe tbody tr th {\n",
       "        vertical-align: top;\n",
       "    }\n",
       "\n",
       "    .dataframe thead th {\n",
       "        text-align: right;\n",
       "    }\n",
       "</style>\n",
       "<table border=\"1\" class=\"dataframe\">\n",
       "  <thead>\n",
       "    <tr style=\"text-align: right;\">\n",
       "      <th></th>\n",
       "      <th>GENHLTH</th>\n",
       "      <th>PHYSHLTH</th>\n",
       "      <th>MENTHLTH</th>\n",
       "      <th>POORHLTH</th>\n",
       "      <th>CHECKUP1</th>\n",
       "      <th>EXERANY2</th>\n",
       "      <th>BPHIGH6</th>\n",
       "      <th>TOLDHI3</th>\n",
       "      <th>CVDINFR4</th>\n",
       "      <th>CVDCRHD4</th>\n",
       "      <th>...</th>\n",
       "      <th>AVEDRNK3</th>\n",
       "      <th>DRNK3GE5</th>\n",
       "      <th>MAXDRNKS</th>\n",
       "      <th>FRUIT2</th>\n",
       "      <th>FRUITJU2</th>\n",
       "      <th>FVGREEN1</th>\n",
       "      <th>FRENCHF1</th>\n",
       "      <th>POTATOE1</th>\n",
       "      <th>VEGETAB2</th>\n",
       "      <th>SEXVAR</th>\n",
       "    </tr>\n",
       "  </thead>\n",
       "  <tbody>\n",
       "    <tr>\n",
       "      <th>0</th>\n",
       "      <td>5.0</td>\n",
       "      <td>20.0</td>\n",
       "      <td>10.0</td>\n",
       "      <td>88.0</td>\n",
       "      <td>2.0</td>\n",
       "      <td>2.0</td>\n",
       "      <td>3.0</td>\n",
       "      <td>1.0</td>\n",
       "      <td>2.0</td>\n",
       "      <td>2.0</td>\n",
       "      <td>...</td>\n",
       "      <td>NaN</td>\n",
       "      <td>NaN</td>\n",
       "      <td>NaN</td>\n",
       "      <td>101.0</td>\n",
       "      <td>555.0</td>\n",
       "      <td>204.0</td>\n",
       "      <td>203.0</td>\n",
       "      <td>201.0</td>\n",
       "      <td>101.0</td>\n",
       "      <td>2.0</td>\n",
       "    </tr>\n",
       "    <tr>\n",
       "      <th>1</th>\n",
       "      <td>3.0</td>\n",
       "      <td>88.0</td>\n",
       "      <td>88.0</td>\n",
       "      <td>NaN</td>\n",
       "      <td>1.0</td>\n",
       "      <td>1.0</td>\n",
       "      <td>1.0</td>\n",
       "      <td>1.0</td>\n",
       "      <td>2.0</td>\n",
       "      <td>1.0</td>\n",
       "      <td>...</td>\n",
       "      <td>NaN</td>\n",
       "      <td>NaN</td>\n",
       "      <td>NaN</td>\n",
       "      <td>101.0</td>\n",
       "      <td>555.0</td>\n",
       "      <td>201.0</td>\n",
       "      <td>555.0</td>\n",
       "      <td>201.0</td>\n",
       "      <td>207.0</td>\n",
       "      <td>2.0</td>\n",
       "    </tr>\n",
       "    <tr>\n",
       "      <th>2</th>\n",
       "      <td>2.0</td>\n",
       "      <td>88.0</td>\n",
       "      <td>88.0</td>\n",
       "      <td>NaN</td>\n",
       "      <td>1.0</td>\n",
       "      <td>2.0</td>\n",
       "      <td>1.0</td>\n",
       "      <td>2.0</td>\n",
       "      <td>2.0</td>\n",
       "      <td>1.0</td>\n",
       "      <td>...</td>\n",
       "      <td>NaN</td>\n",
       "      <td>NaN</td>\n",
       "      <td>NaN</td>\n",
       "      <td>101.0</td>\n",
       "      <td>555.0</td>\n",
       "      <td>555.0</td>\n",
       "      <td>201.0</td>\n",
       "      <td>201.0</td>\n",
       "      <td>203.0</td>\n",
       "      <td>2.0</td>\n",
       "    </tr>\n",
       "    <tr>\n",
       "      <th>3</th>\n",
       "      <td>2.0</td>\n",
       "      <td>88.0</td>\n",
       "      <td>10.0</td>\n",
       "      <td>88.0</td>\n",
       "      <td>1.0</td>\n",
       "      <td>1.0</td>\n",
       "      <td>1.0</td>\n",
       "      <td>1.0</td>\n",
       "      <td>2.0</td>\n",
       "      <td>2.0</td>\n",
       "      <td>...</td>\n",
       "      <td>3.0</td>\n",
       "      <td>1.0</td>\n",
       "      <td>6.0</td>\n",
       "      <td>203.0</td>\n",
       "      <td>205.0</td>\n",
       "      <td>303.0</td>\n",
       "      <td>204.0</td>\n",
       "      <td>308.0</td>\n",
       "      <td>205.0</td>\n",
       "      <td>2.0</td>\n",
       "    </tr>\n",
       "    <tr>\n",
       "      <th>4</th>\n",
       "      <td>5.0</td>\n",
       "      <td>30.0</td>\n",
       "      <td>88.0</td>\n",
       "      <td>30.0</td>\n",
       "      <td>1.0</td>\n",
       "      <td>1.0</td>\n",
       "      <td>4.0</td>\n",
       "      <td>1.0</td>\n",
       "      <td>1.0</td>\n",
       "      <td>7.0</td>\n",
       "      <td>...</td>\n",
       "      <td>NaN</td>\n",
       "      <td>NaN</td>\n",
       "      <td>NaN</td>\n",
       "      <td>101.0</td>\n",
       "      <td>555.0</td>\n",
       "      <td>101.0</td>\n",
       "      <td>202.0</td>\n",
       "      <td>202.0</td>\n",
       "      <td>101.0</td>\n",
       "      <td>1.0</td>\n",
       "    </tr>\n",
       "  </tbody>\n",
       "</table>\n",
       "<p>5 rows × 29 columns</p>\n",
       "</div>"
      ],
      "text/plain": [
       "   GENHLTH  PHYSHLTH  MENTHLTH  POORHLTH  CHECKUP1  EXERANY2  BPHIGH6  \\\n",
       "0      5.0      20.0      10.0      88.0       2.0       2.0      3.0   \n",
       "1      3.0      88.0      88.0       NaN       1.0       1.0      1.0   \n",
       "2      2.0      88.0      88.0       NaN       1.0       2.0      1.0   \n",
       "3      2.0      88.0      10.0      88.0       1.0       1.0      1.0   \n",
       "4      5.0      30.0      88.0      30.0       1.0       1.0      4.0   \n",
       "\n",
       "   TOLDHI3  CVDINFR4  CVDCRHD4  ...  AVEDRNK3  DRNK3GE5  MAXDRNKS  FRUIT2  \\\n",
       "0      1.0       2.0       2.0  ...       NaN       NaN       NaN   101.0   \n",
       "1      1.0       2.0       1.0  ...       NaN       NaN       NaN   101.0   \n",
       "2      2.0       2.0       1.0  ...       NaN       NaN       NaN   101.0   \n",
       "3      1.0       2.0       2.0  ...       3.0       1.0       6.0   203.0   \n",
       "4      1.0       1.0       7.0  ...       NaN       NaN       NaN   101.0   \n",
       "\n",
       "   FRUITJU2  FVGREEN1  FRENCHF1  POTATOE1  VEGETAB2  SEXVAR  \n",
       "0     555.0     204.0     203.0     201.0     101.0     2.0  \n",
       "1     555.0     201.0     555.0     201.0     207.0     2.0  \n",
       "2     555.0     555.0     201.0     201.0     203.0     2.0  \n",
       "3     205.0     303.0     204.0     308.0     205.0     2.0  \n",
       "4     555.0     101.0     202.0     202.0     101.0     1.0  \n",
       "\n",
       "[5 rows x 29 columns]"
      ]
     },
     "execution_count": 38,
     "metadata": {},
     "output_type": "execute_result"
    }
   ],
   "source": [
    "df_clean[\"SEXVAR\"] = df[\"SEXVAR\"]\n",
    "df_clean.drop([\"DIABAGE3\", \"WTCHSALT\", \"BIRTHSEX\", \"SMOKDAY2\"], axis=1, inplace=True)\n",
    "df_clean.head()"
   ]
  },
  {
   "cell_type": "markdown",
   "metadata": {},
   "source": [
    "### Drop NaN Rows"
   ]
  },
  {
   "cell_type": "code",
   "execution_count": 39,
   "metadata": {},
   "outputs": [
    {
     "name": "stderr",
     "output_type": "stream",
     "text": [
      "C:\\Users\\Bagus_Raka\\AppData\\Local\\Temp\\ipykernel_3992\\406832494.py:1: SettingWithCopyWarning: \n",
      "A value is trying to be set on a copy of a slice from a DataFrame\n",
      "\n",
      "See the caveats in the documentation: https://pandas.pydata.org/pandas-docs/stable/user_guide/indexing.html#returning-a-view-versus-a-copy\n",
      "  df_clean.dropna(inplace=True)\n"
     ]
    },
    {
     "data": {
      "text/html": [
       "<div>\n",
       "<style scoped>\n",
       "    .dataframe tbody tr th:only-of-type {\n",
       "        vertical-align: middle;\n",
       "    }\n",
       "\n",
       "    .dataframe tbody tr th {\n",
       "        vertical-align: top;\n",
       "    }\n",
       "\n",
       "    .dataframe thead th {\n",
       "        text-align: right;\n",
       "    }\n",
       "</style>\n",
       "<table border=\"1\" class=\"dataframe\">\n",
       "  <thead>\n",
       "    <tr style=\"text-align: right;\">\n",
       "      <th></th>\n",
       "      <th>GENHLTH</th>\n",
       "      <th>PHYSHLTH</th>\n",
       "      <th>MENTHLTH</th>\n",
       "      <th>POORHLTH</th>\n",
       "      <th>CHECKUP1</th>\n",
       "      <th>EXERANY2</th>\n",
       "      <th>BPHIGH6</th>\n",
       "      <th>TOLDHI3</th>\n",
       "      <th>CVDINFR4</th>\n",
       "      <th>CVDCRHD4</th>\n",
       "      <th>...</th>\n",
       "      <th>AVEDRNK3</th>\n",
       "      <th>DRNK3GE5</th>\n",
       "      <th>MAXDRNKS</th>\n",
       "      <th>FRUIT2</th>\n",
       "      <th>FRUITJU2</th>\n",
       "      <th>FVGREEN1</th>\n",
       "      <th>FRENCHF1</th>\n",
       "      <th>POTATOE1</th>\n",
       "      <th>VEGETAB2</th>\n",
       "      <th>SEXVAR</th>\n",
       "    </tr>\n",
       "  </thead>\n",
       "  <tbody>\n",
       "    <tr>\n",
       "      <th>3</th>\n",
       "      <td>2.0</td>\n",
       "      <td>88.0</td>\n",
       "      <td>10.0</td>\n",
       "      <td>88.0</td>\n",
       "      <td>1.0</td>\n",
       "      <td>1.0</td>\n",
       "      <td>1.0</td>\n",
       "      <td>1.0</td>\n",
       "      <td>2.0</td>\n",
       "      <td>2.0</td>\n",
       "      <td>...</td>\n",
       "      <td>3.0</td>\n",
       "      <td>1.0</td>\n",
       "      <td>6.0</td>\n",
       "      <td>203.0</td>\n",
       "      <td>205.0</td>\n",
       "      <td>303.0</td>\n",
       "      <td>204.0</td>\n",
       "      <td>308.0</td>\n",
       "      <td>205.0</td>\n",
       "      <td>2.0</td>\n",
       "    </tr>\n",
       "    <tr>\n",
       "      <th>9</th>\n",
       "      <td>3.0</td>\n",
       "      <td>25.0</td>\n",
       "      <td>5.0</td>\n",
       "      <td>5.0</td>\n",
       "      <td>1.0</td>\n",
       "      <td>1.0</td>\n",
       "      <td>1.0</td>\n",
       "      <td>2.0</td>\n",
       "      <td>2.0</td>\n",
       "      <td>2.0</td>\n",
       "      <td>...</td>\n",
       "      <td>2.0</td>\n",
       "      <td>88.0</td>\n",
       "      <td>2.0</td>\n",
       "      <td>101.0</td>\n",
       "      <td>555.0</td>\n",
       "      <td>202.0</td>\n",
       "      <td>202.0</td>\n",
       "      <td>203.0</td>\n",
       "      <td>204.0</td>\n",
       "      <td>2.0</td>\n",
       "    </tr>\n",
       "    <tr>\n",
       "      <th>36</th>\n",
       "      <td>3.0</td>\n",
       "      <td>2.0</td>\n",
       "      <td>88.0</td>\n",
       "      <td>2.0</td>\n",
       "      <td>1.0</td>\n",
       "      <td>2.0</td>\n",
       "      <td>1.0</td>\n",
       "      <td>1.0</td>\n",
       "      <td>2.0</td>\n",
       "      <td>2.0</td>\n",
       "      <td>...</td>\n",
       "      <td>1.0</td>\n",
       "      <td>88.0</td>\n",
       "      <td>2.0</td>\n",
       "      <td>202.0</td>\n",
       "      <td>101.0</td>\n",
       "      <td>204.0</td>\n",
       "      <td>201.0</td>\n",
       "      <td>205.0</td>\n",
       "      <td>330.0</td>\n",
       "      <td>2.0</td>\n",
       "    </tr>\n",
       "    <tr>\n",
       "      <th>44</th>\n",
       "      <td>4.0</td>\n",
       "      <td>88.0</td>\n",
       "      <td>5.0</td>\n",
       "      <td>1.0</td>\n",
       "      <td>1.0</td>\n",
       "      <td>1.0</td>\n",
       "      <td>3.0</td>\n",
       "      <td>2.0</td>\n",
       "      <td>2.0</td>\n",
       "      <td>2.0</td>\n",
       "      <td>...</td>\n",
       "      <td>1.0</td>\n",
       "      <td>88.0</td>\n",
       "      <td>1.0</td>\n",
       "      <td>102.0</td>\n",
       "      <td>201.0</td>\n",
       "      <td>301.0</td>\n",
       "      <td>302.0</td>\n",
       "      <td>202.0</td>\n",
       "      <td>102.0</td>\n",
       "      <td>2.0</td>\n",
       "    </tr>\n",
       "    <tr>\n",
       "      <th>50</th>\n",
       "      <td>3.0</td>\n",
       "      <td>30.0</td>\n",
       "      <td>88.0</td>\n",
       "      <td>30.0</td>\n",
       "      <td>1.0</td>\n",
       "      <td>1.0</td>\n",
       "      <td>1.0</td>\n",
       "      <td>2.0</td>\n",
       "      <td>2.0</td>\n",
       "      <td>2.0</td>\n",
       "      <td>...</td>\n",
       "      <td>1.0</td>\n",
       "      <td>88.0</td>\n",
       "      <td>1.0</td>\n",
       "      <td>300.0</td>\n",
       "      <td>207.0</td>\n",
       "      <td>315.0</td>\n",
       "      <td>315.0</td>\n",
       "      <td>555.0</td>\n",
       "      <td>555.0</td>\n",
       "      <td>1.0</td>\n",
       "    </tr>\n",
       "  </tbody>\n",
       "</table>\n",
       "<p>5 rows × 29 columns</p>\n",
       "</div>"
      ],
      "text/plain": [
       "    GENHLTH  PHYSHLTH  MENTHLTH  POORHLTH  CHECKUP1  EXERANY2  BPHIGH6  \\\n",
       "3       2.0      88.0      10.0      88.0       1.0       1.0      1.0   \n",
       "9       3.0      25.0       5.0       5.0       1.0       1.0      1.0   \n",
       "36      3.0       2.0      88.0       2.0       1.0       2.0      1.0   \n",
       "44      4.0      88.0       5.0       1.0       1.0       1.0      3.0   \n",
       "50      3.0      30.0      88.0      30.0       1.0       1.0      1.0   \n",
       "\n",
       "    TOLDHI3  CVDINFR4  CVDCRHD4  ...  AVEDRNK3  DRNK3GE5  MAXDRNKS  FRUIT2  \\\n",
       "3       1.0       2.0       2.0  ...       3.0       1.0       6.0   203.0   \n",
       "9       2.0       2.0       2.0  ...       2.0      88.0       2.0   101.0   \n",
       "36      1.0       2.0       2.0  ...       1.0      88.0       2.0   202.0   \n",
       "44      2.0       2.0       2.0  ...       1.0      88.0       1.0   102.0   \n",
       "50      2.0       2.0       2.0  ...       1.0      88.0       1.0   300.0   \n",
       "\n",
       "    FRUITJU2  FVGREEN1  FRENCHF1  POTATOE1  VEGETAB2  SEXVAR  \n",
       "3      205.0     303.0     204.0     308.0     205.0     2.0  \n",
       "9      555.0     202.0     202.0     203.0     204.0     2.0  \n",
       "36     101.0     204.0     201.0     205.0     330.0     2.0  \n",
       "44     201.0     301.0     302.0     202.0     102.0     2.0  \n",
       "50     207.0     315.0     315.0     555.0     555.0     1.0  \n",
       "\n",
       "[5 rows x 29 columns]"
      ]
     },
     "execution_count": 39,
     "metadata": {},
     "output_type": "execute_result"
    }
   ],
   "source": [
    "df_clean.dropna(inplace=True)\n",
    "df_clean.head()"
   ]
  },
  {
   "cell_type": "markdown",
   "metadata": {},
   "source": [
    "### Advanced Data Cleaning Process"
   ]
  },
  {
   "cell_type": "markdown",
   "metadata": {},
   "source": [
    "After handling missing data, the process that can be done is to handle the data coding in each column according to the explanation in [2](https://www.cdc.gov/brfss/questionnaires/pdf-ques/2021-BRFSS-Questionnaire-1-19-2022-508.pdf). We will change the coding that tends to be complicated in this data such as in the WEIGHT2 and HEIGHT3 columns to equalize the metrics used. Furthermore, also in the columns ALCDAY5, FRUIT2, FRUITJU2, FVGREEN1, FRENCHF1, POTATOE1, and VEGETAB2, we will convert the time unit because the time unit is different. "
   ]
  },
  {
   "cell_type": "code",
   "execution_count": 40,
   "metadata": {},
   "outputs": [
    {
     "name": "stdout",
     "output_type": "stream",
     "text": [
      "<class 'pandas.core.frame.DataFrame'>\n",
      "Int64Index: 91576 entries, 3 to 438692\n",
      "Data columns (total 29 columns):\n",
      " #   Column    Non-Null Count  Dtype  \n",
      "---  ------    --------------  -----  \n",
      " 0   GENHLTH   91576 non-null  float64\n",
      " 1   PHYSHLTH  91576 non-null  float64\n",
      " 2   MENTHLTH  91576 non-null  float64\n",
      " 3   POORHLTH  91576 non-null  float64\n",
      " 4   CHECKUP1  91576 non-null  float64\n",
      " 5   EXERANY2  91576 non-null  float64\n",
      " 6   BPHIGH6   91576 non-null  float64\n",
      " 7   TOLDHI3   91576 non-null  float64\n",
      " 8   CVDINFR4  91576 non-null  float64\n",
      " 9   CVDCRHD4  91576 non-null  float64\n",
      " 10  CVDSTRK3  91576 non-null  float64\n",
      " 11  DIABETE4  91576 non-null  float64\n",
      " 12  _AGE80    91576 non-null  float64\n",
      " 13  WEIGHT2   91576 non-null  float64\n",
      " 14  HEIGHT3   91576 non-null  float64\n",
      " 15  SMOKE100  91576 non-null  float64\n",
      " 16  USENOW3   91576 non-null  float64\n",
      " 17  ECIGNOW1  91576 non-null  float64\n",
      " 18  ALCDAY5   91576 non-null  float64\n",
      " 19  AVEDRNK3  91576 non-null  float64\n",
      " 20  DRNK3GE5  91576 non-null  float64\n",
      " 21  MAXDRNKS  91576 non-null  float64\n",
      " 22  FRUIT2    91576 non-null  float64\n",
      " 23  FRUITJU2  91576 non-null  float64\n",
      " 24  FVGREEN1  91576 non-null  float64\n",
      " 25  FRENCHF1  91576 non-null  float64\n",
      " 26  POTATOE1  91576 non-null  float64\n",
      " 27  VEGETAB2  91576 non-null  float64\n",
      " 28  SEXVAR    91576 non-null  float64\n",
      "dtypes: float64(29)\n",
      "memory usage: 21.0 MB\n"
     ]
    }
   ],
   "source": [
    "df_clean.info()"
   ]
  },
  {
   "cell_type": "markdown",
   "metadata": {},
   "source": [
    "#### WEIGHT2"
   ]
  },
  {
   "cell_type": "markdown",
   "metadata": {},
   "source": [
    "Convert pounds to kg"
   ]
  },
  {
   "cell_type": "code",
   "execution_count": 41,
   "metadata": {},
   "outputs": [
    {
     "name": "stderr",
     "output_type": "stream",
     "text": [
      "C:\\Users\\Bagus_Raka\\AppData\\Local\\Temp\\ipykernel_3992\\1404950880.py:5: SettingWithCopyWarning: \n",
      "A value is trying to be set on a copy of a slice from a DataFrame\n",
      "\n",
      "See the caveats in the documentation: https://pandas.pydata.org/pandas-docs/stable/user_guide/indexing.html#returning-a-view-versus-a-copy\n",
      "  df_clean.loc[df_clean['WEIGHT2'] < 7777, 'WEIGHT2'] = df_clean.loc[df_clean['WEIGHT2'] < 7777, 'WEIGHT2'].apply(convert_weight)\n"
     ]
    }
   ],
   "source": [
    "def convert_weight(weight):\n",
    "    return weight / 2.205\n",
    "\n",
    "# Apply the conversion function to values in the \"WEIGHT2\" column less than 7777\n",
    "df_clean.loc[df_clean['WEIGHT2'] < 7777, 'WEIGHT2'] = df_clean.loc[df_clean['WEIGHT2'] < 7777, 'WEIGHT2'].apply(convert_weight)"
   ]
  },
  {
   "cell_type": "code",
   "execution_count": 42,
   "metadata": {},
   "outputs": [
    {
     "data": {
      "text/plain": [
       "<Axes: >"
      ]
     },
     "execution_count": 42,
     "metadata": {},
     "output_type": "execute_result"
    },
    {
     "data": {
      "image/png": "[encoded data removed]",
      "text/plain": [
       "<Figure size 640x480 with 1 Axes>"
      ]
     },
     "metadata": {},
     "output_type": "display_data"
    }
   ],
   "source": [
    "df_clean[\"WEIGHT2\"][df_clean[\"WEIGHT2\"]<7777].hist()"
   ]
  },
  {
   "cell_type": "markdown",
   "metadata": {},
   "source": [
    "#### HEIGHT3"
   ]
  },
  {
   "cell_type": "markdown",
   "metadata": {},
   "source": [
    "Convert feet inches to centimeters"
   ]
  },
  {
   "cell_type": "code",
   "execution_count": 43,
   "metadata": {},
   "outputs": [
    {
     "name": "stderr",
     "output_type": "stream",
     "text": [
      "C:\\Users\\Bagus_Raka\\AppData\\Local\\Temp\\ipykernel_3992\\4149097663.py:9: SettingWithCopyWarning: \n",
      "A value is trying to be set on a copy of a slice from a DataFrame\n",
      "\n",
      "See the caveats in the documentation: https://pandas.pydata.org/pandas-docs/stable/user_guide/indexing.html#returning-a-view-versus-a-copy\n",
      "  df_clean.loc[df_clean['HEIGHT3'] < 7777, 'HEIGHT3'] = df_clean.loc[df_clean['HEIGHT3'] < 7777, 'HEIGHT3'].apply(feet_inches_to_cm)\n"
     ]
    }
   ],
   "source": [
    "# Define a function to convert feet and inches to centimeters\n",
    "def feet_inches_to_cm(height):\n",
    "    feet = int(height / 100)  # Extract feet (first two digits)\n",
    "    inches = int(height % 100)  # Extract inches (last two digits)\n",
    "    total_inches = feet * 12 + inches  # Convert feet and inches to total inches\n",
    "    return total_inches * 2.54  # Convert total inches to centimeters\n",
    "\n",
    "# Apply the conversion function to values in the \"HEIGHT3\" column less than 7777\n",
    "df_clean.loc[df_clean['HEIGHT3'] < 7777, 'HEIGHT3'] = df_clean.loc[df_clean['HEIGHT3'] < 7777, 'HEIGHT3'].apply(feet_inches_to_cm)"
   ]
  },
  {
   "cell_type": "code",
   "execution_count": 44,
   "metadata": {},
   "outputs": [
    {
     "data": {
      "text/plain": [
       "<Axes: >"
      ]
     },
     "execution_count": 44,
     "metadata": {},
     "output_type": "execute_result"
    },
    {
     "data": {
      "image/png": "[encoded data removed]",
      "text/plain": [
       "<Figure size 640x480 with 1 Axes>"
      ]
     },
     "metadata": {},
     "output_type": "display_data"
    }
   ],
   "source": [
    "df_clean[\"HEIGHT3\"][df_clean[\"HEIGHT3\"]<7777].hist()"
   ]
  },
  {
   "cell_type": "markdown",
   "metadata": {},
   "source": [
    "#### ALCDAY5"
   ]
  },
  {
   "cell_type": "markdown",
   "metadata": {},
   "source": [
    "Convert to X days in past 30 days"
   ]
  },
  {
   "cell_type": "code",
   "execution_count": 45,
   "metadata": {},
   "outputs": [
    {
     "name": "stderr",
     "output_type": "stream",
     "text": [
      "C:\\Users\\Bagus_Raka\\AppData\\Local\\Temp\\ipykernel_3992\\1902438635.py:15: SettingWithCopyWarning: \n",
      "A value is trying to be set on a copy of a slice from a DataFrame.\n",
      "Try using .loc[row_indexer,col_indexer] = value instead\n",
      "\n",
      "See the caveats in the documentation: https://pandas.pydata.org/pandas-docs/stable/user_guide/indexing.html#returning-a-view-versus-a-copy\n",
      "  df_clean[\"ALCDAY5\"] = df_clean[\"ALCDAY5\"].apply(convert_ALCDAY5_to_days_in_past_30_days)\n"
     ]
    }
   ],
   "source": [
    "# Define a function to convert ALCDAY5 codes to days in past 30 days\n",
    "def convert_ALCDAY5_to_days_in_past_30_days(code):\n",
    "    code_str = str(int(code))  # Convert to string\n",
    "    if code_str.startswith('1'):\n",
    "        days_per_week = int(code_str[1:])\n",
    "        if days_per_week > 0:\n",
    "            return days_per_week * 4  # Convert days per week to days per month (4 weeks)\n",
    "    elif code_str.startswith('2'):\n",
    "        days_in_past_30_days = int(code_str[1:])\n",
    "        if days_in_past_30_days > 0:\n",
    "            return days_in_past_30_days\n",
    "    return code\n",
    "    \n",
    "# Apply the conversion function to the ALCDAY5 column\n",
    "df_clean[\"ALCDAY5\"] = df_clean[\"ALCDAY5\"].apply(convert_ALCDAY5_to_days_in_past_30_days)"
   ]
  },
  {
   "cell_type": "code",
   "execution_count": 46,
   "metadata": {},
   "outputs": [
    {
     "data": {
      "text/plain": [
       "<Axes: >"
      ]
     },
     "execution_count": 46,
     "metadata": {},
     "output_type": "execute_result"
    },
    {
     "data": {
      "image/png": "[encoded data removed]",
      "text/plain": [
       "<Figure size 640x480 with 1 Axes>"
      ]
     },
     "metadata": {},
     "output_type": "display_data"
    }
   ],
   "source": [
    "df_clean[\"ALCDAY5\"][df_clean[\"ALCDAY5\"]<888].hist()"
   ]
  },
  {
   "cell_type": "markdown",
   "metadata": {},
   "source": [
    "#### FRUIT2"
   ]
  },
  {
   "cell_type": "markdown",
   "metadata": {},
   "source": [
    "Convert to monthly fruit consumption"
   ]
  },
  {
   "cell_type": "code",
   "execution_count": 47,
   "metadata": {},
   "outputs": [
    {
     "name": "stderr",
     "output_type": "stream",
     "text": [
      "C:\\Users\\Bagus_Raka\\AppData\\Local\\Temp\\ipykernel_3992\\1066369042.py:18: SettingWithCopyWarning: \n",
      "A value is trying to be set on a copy of a slice from a DataFrame.\n",
      "Try using .loc[row_indexer,col_indexer] = value instead\n",
      "\n",
      "See the caveats in the documentation: https://pandas.pydata.org/pandas-docs/stable/user_guide/indexing.html#returning-a-view-versus-a-copy\n",
      "  df_clean[\"FRUIT2\"] = df_clean[\"FRUIT2\"].apply(convert_to_monthly)\n"
     ]
    }
   ],
   "source": [
    "# Define a function to convert FRUIT2 codes to monthly frequency\n",
    "def convert_to_monthly(code):\n",
    "    code_str = str(int(code))  # Convert to string\n",
    "    if code_str.startswith('1'):\n",
    "        days = int(code_str[1:])\n",
    "        if days > 0:\n",
    "            return days * 30  # Convert days consumption to month consumption\n",
    "    elif code_str.startswith('2'):\n",
    "        week = int(code_str[1:])\n",
    "        if week > 0:\n",
    "            return week * 4 # Convert days consumption to month consumption\n",
    "    elif code_str.startswith('3'):\n",
    "        month = int(code_str[1:])\n",
    "        if month > 0:\n",
    "            return month\n",
    "    return code\n",
    "\n",
    "df_clean[\"FRUIT2\"] = df_clean[\"FRUIT2\"].apply(convert_to_monthly)"
   ]
  },
  {
   "cell_type": "code",
   "execution_count": 52,
   "metadata": {},
   "outputs": [
    {
     "data": {
      "text/plain": [
       "<Axes: >"
      ]
     },
     "execution_count": 52,
     "metadata": {},
     "output_type": "execute_result"
    },
    {
     "data": {
      "image/png": "[encoded data removed]",
      "text/plain": [
       "<Figure size 640x480 with 1 Axes>"
      ]
     },
     "metadata": {},
     "output_type": "display_data"
    }
   ],
   "source": [
    "df_clean[\"FRUIT2\"][df_clean[\"FRUIT2\"]<300].hist()"
   ]
  },
  {
   "cell_type": "markdown",
   "metadata": {},
   "source": [
    "#### FRUITJU2"
   ]
  },
  {
   "cell_type": "markdown",
   "metadata": {},
   "source": [
    "Convert to monthly fruit juice consumption"
   ]
  },
  {
   "cell_type": "code",
   "execution_count": 49,
   "metadata": {},
   "outputs": [
    {
     "name": "stderr",
     "output_type": "stream",
     "text": [
      "C:\\Users\\Bagus_Raka\\AppData\\Local\\Temp\\ipykernel_3992\\2261714451.py:1: SettingWithCopyWarning: \n",
      "A value is trying to be set on a copy of a slice from a DataFrame.\n",
      "Try using .loc[row_indexer,col_indexer] = value instead\n",
      "\n",
      "See the caveats in the documentation: https://pandas.pydata.org/pandas-docs/stable/user_guide/indexing.html#returning-a-view-versus-a-copy\n",
      "  df_clean[\"FRUITJU2\"] = df_clean[\"FRUITJU2\"].apply(convert_to_monthly)\n"
     ]
    }
   ],
   "source": [
    "df_clean[\"FRUITJU2\"] = df_clean[\"FRUITJU2\"].apply(convert_to_monthly)"
   ]
  },
  {
   "cell_type": "code",
   "execution_count": 53,
   "metadata": {},
   "outputs": [
    {
     "data": {
      "text/plain": [
       "<Axes: >"
      ]
     },
     "execution_count": 53,
     "metadata": {},
     "output_type": "execute_result"
    },
    {
     "data": {
      "image/png": "[encoded data removed]",
      "text/plain": [
       "<Figure size 640x480 with 1 Axes>"
      ]
     },
     "metadata": {},
     "output_type": "display_data"
    }
   ],
   "source": [
    "df_clean[\"FRUITJU2\"][df_clean[\"FRUITJU2\"]<300].hist()"
   ]
  },
  {
   "cell_type": "markdown",
   "metadata": {},
   "source": [
    "#### FVGREEN1"
   ]
  },
  {
   "cell_type": "markdown",
   "metadata": {},
   "source": [
    "Convert to monthly green vegetables consumption"
   ]
  },
  {
   "cell_type": "code",
   "execution_count": 59,
   "metadata": {},
   "outputs": [
    {
     "name": "stderr",
     "output_type": "stream",
     "text": [
      "C:\\Users\\Bagus_Raka\\AppData\\Local\\Temp\\ipykernel_3992\\3949347441.py:1: SettingWithCopyWarning: \n",
      "A value is trying to be set on a copy of a slice from a DataFrame.\n",
      "Try using .loc[row_indexer,col_indexer] = value instead\n",
      "\n",
      "See the caveats in the documentation: https://pandas.pydata.org/pandas-docs/stable/user_guide/indexing.html#returning-a-view-versus-a-copy\n",
      "  df_clean[\"FVGREEN1\"] = df_clean[\"FVGREEN1\"].apply(convert_to_monthly)\n"
     ]
    }
   ],
   "source": [
    "df_clean[\"FVGREEN1\"] = df_clean[\"FVGREEN1\"].apply(convert_to_monthly)"
   ]
  },
  {
   "cell_type": "code",
   "execution_count": 60,
   "metadata": {},
   "outputs": [
    {
     "data": {
      "text/plain": [
       "<Axes: >"
      ]
     },
     "execution_count": 60,
     "metadata": {},
     "output_type": "execute_result"
    },
    {
     "data": {
      "image/png": "[encoded data removed]",
      "text/plain": [
       "<Figure size 640x480 with 1 Axes>"
      ]
     },
     "metadata": {},
     "output_type": "display_data"
    }
   ],
   "source": [
    "df_clean[\"FVGREEN1\"][df_clean[\"FVGREEN1\"]<300].hist()"
   ]
  },
  {
   "cell_type": "markdown",
   "metadata": {},
   "source": [
    "#### FRENCHF1"
   ]
  },
  {
   "cell_type": "markdown",
   "metadata": {},
   "source": [
    "Convert to monthly fried potatoes consumption"
   ]
  },
  {
   "cell_type": "code",
   "execution_count": 61,
   "metadata": {},
   "outputs": [
    {
     "name": "stderr",
     "output_type": "stream",
     "text": [
      "C:\\Users\\Bagus_Raka\\AppData\\Local\\Temp\\ipykernel_3992\\2629540880.py:1: SettingWithCopyWarning: \n",
      "A value is trying to be set on a copy of a slice from a DataFrame.\n",
      "Try using .loc[row_indexer,col_indexer] = value instead\n",
      "\n",
      "See the caveats in the documentation: https://pandas.pydata.org/pandas-docs/stable/user_guide/indexing.html#returning-a-view-versus-a-copy\n",
      "  df_clean[\"FRENCHF1\"] = df_clean[\"FRENCHF1\"].apply(convert_to_monthly)\n"
     ]
    }
   ],
   "source": [
    "df_clean[\"FRENCHF1\"] = df_clean[\"FRENCHF1\"].apply(convert_to_monthly)"
   ]
  },
  {
   "cell_type": "code",
   "execution_count": 62,
   "metadata": {},
   "outputs": [
    {
     "data": {
      "text/plain": [
       "<Axes: >"
      ]
     },
     "execution_count": 62,
     "metadata": {},
     "output_type": "execute_result"
    },
    {
     "data": {
      "image/png": "[encoded data removed]",
      "text/plain": [
       "<Figure size 640x480 with 1 Axes>"
      ]
     },
     "metadata": {},
     "output_type": "display_data"
    }
   ],
   "source": [
    "df_clean[\"FRENCHF1\"][df_clean[\"FRENCHF1\"]<300].hist()"
   ]
  },
  {
   "cell_type": "markdown",
   "metadata": {},
   "source": [
    "#### POTATOE1"
   ]
  },
  {
   "cell_type": "markdown",
   "metadata": {},
   "source": [
    "Convert to monthly other potatoes consumption"
   ]
  },
  {
   "cell_type": "code",
   "execution_count": 63,
   "metadata": {},
   "outputs": [
    {
     "name": "stderr",
     "output_type": "stream",
     "text": [
      "C:\\Users\\Bagus_Raka\\AppData\\Local\\Temp\\ipykernel_3992\\3370581661.py:1: SettingWithCopyWarning: \n",
      "A value is trying to be set on a copy of a slice from a DataFrame.\n",
      "Try using .loc[row_indexer,col_indexer] = value instead\n",
      "\n",
      "See the caveats in the documentation: https://pandas.pydata.org/pandas-docs/stable/user_guide/indexing.html#returning-a-view-versus-a-copy\n",
      "  df_clean[\"POTATOE1\"] = df_clean[\"POTATOE1\"].apply(convert_to_monthly)\n"
     ]
    }
   ],
   "source": [
    "df_clean[\"POTATOE1\"] = df_clean[\"POTATOE1\"].apply(convert_to_monthly)"
   ]
  },
  {
   "cell_type": "code",
   "execution_count": 64,
   "metadata": {},
   "outputs": [
    {
     "data": {
      "text/plain": [
       "<Axes: >"
      ]
     },
     "execution_count": 64,
     "metadata": {},
     "output_type": "execute_result"
    },
    {
     "data": {
      "image/png": "[encoded data removed]",
      "text/plain": [
       "<Figure size 640x480 with 1 Axes>"
      ]
     },
     "metadata": {},
     "output_type": "display_data"
    }
   ],
   "source": [
    "df_clean[\"POTATOE1\"][df_clean[\"POTATOE1\"]<300].hist()"
   ]
  },
  {
   "cell_type": "markdown",
   "metadata": {},
   "source": [
    "#### VEGETAB2"
   ]
  },
  {
   "cell_type": "markdown",
   "metadata": {},
   "source": [
    "Convert to monthly other vegetables consumption"
   ]
  },
  {
   "cell_type": "code",
   "execution_count": 65,
   "metadata": {},
   "outputs": [
    {
     "name": "stderr",
     "output_type": "stream",
     "text": [
      "C:\\Users\\Bagus_Raka\\AppData\\Local\\Temp\\ipykernel_3992\\1205986655.py:1: SettingWithCopyWarning: \n",
      "A value is trying to be set on a copy of a slice from a DataFrame.\n",
      "Try using .loc[row_indexer,col_indexer] = value instead\n",
      "\n",
      "See the caveats in the documentation: https://pandas.pydata.org/pandas-docs/stable/user_guide/indexing.html#returning-a-view-versus-a-copy\n",
      "  df_clean[\"VEGETAB2\"] = df_clean[\"VEGETAB2\"].apply(convert_to_monthly)\n"
     ]
    }
   ],
   "source": [
    "df_clean[\"VEGETAB2\"] = df_clean[\"VEGETAB2\"].apply(convert_to_monthly)"
   ]
  },
  {
   "cell_type": "code",
   "execution_count": 66,
   "metadata": {},
   "outputs": [
    {
     "data": {
      "text/plain": [
       "<Axes: >"
      ]
     },
     "execution_count": 66,
     "metadata": {},
     "output_type": "execute_result"
    },
    {
     "data": {
      "image/png": "[encoded data removed]",
      "text/plain": [
       "<Figure size 640x480 with 1 Axes>"
      ]
     },
     "metadata": {},
     "output_type": "display_data"
    }
   ],
   "source": [
    "df_clean[\"VEGETAB2\"][df_clean[\"VEGETAB2\"]<300].hist()"
   ]
  },
  {
   "cell_type": "markdown",
   "metadata": {},
   "source": [
    "#### CVD Preprocessing"
   ]
  },
  {
   "cell_type": "markdown",
   "metadata": {},
   "source": [
    "We also need to pre-process cardiovascular disease into a column that indicates whether there is cardiovascular disease or not. So we need to use logical or in the three column related to cardiovascular disease (CVDINFR4, CVDCRHD4, CVDSTRK3) to create a new column that indicates whether cardiovascular disease is present or not."
   ]
  },
  {
   "cell_type": "code",
   "execution_count": 72,
   "metadata": {},
   "outputs": [],
   "source": [
    "df_clean = df_clean.loc[(df_clean[\"CVDINFR4\"] != 7) & (df_clean[\"CVDINFR4\"] != 9) & (df_clean[\"CVDCRHD4\"] != 7) \n",
    "                        & (df_clean[\"CVDCRHD4\"] != 9) & (df_clean[\"CVDSTRK3\"] != 7) & (df_clean[\"CVDSTRK3\"] != 9)]"
   ]
  },
  {
   "cell_type": "code",
   "execution_count": 75,
   "metadata": {},
   "outputs": [
    {
     "data": {
      "text/plain": [
       "2.0    86498\n",
       "1.0     3914\n",
       "Name: CVDINFR4, dtype: int64"
      ]
     },
     "execution_count": 75,
     "metadata": {},
     "output_type": "execute_result"
    }
   ],
   "source": [
    "df_clean[\"CVDINFR4\"].value_counts()"
   ]
  },
  {
   "cell_type": "code",
   "execution_count": 73,
   "metadata": {},
   "outputs": [
    {
     "data": {
      "text/plain": [
       "2.0    85986\n",
       "1.0     4426\n",
       "Name: CVDCRHD4, dtype: int64"
      ]
     },
     "execution_count": 73,
     "metadata": {},
     "output_type": "execute_result"
    }
   ],
   "source": [
    "df_clean[\"CVDCRHD4\"].value_counts()"
   ]
  },
  {
   "cell_type": "code",
   "execution_count": 74,
   "metadata": {},
   "outputs": [
    {
     "data": {
      "text/plain": [
       "2.0    87428\n",
       "1.0     2984\n",
       "Name: CVDSTRK3, dtype: int64"
      ]
     },
     "execution_count": 74,
     "metadata": {},
     "output_type": "execute_result"
    }
   ],
   "source": [
    "df_clean[\"CVDSTRK3\"].value_counts()"
   ]
  },
  {
   "cell_type": "code",
   "execution_count": 78,
   "metadata": {},
   "outputs": [],
   "source": [
    "df_clean['CVD'] = (df_clean[\"CVDINFR4\"] == 1) | (df_clean[\"CVDCRHD4\"] == 1) | (df_clean[\"CVDSTRK3\"] == 1)"
   ]
  },
  {
   "cell_type": "code",
   "execution_count": 79,
   "metadata": {},
   "outputs": [
    {
     "data": {
      "text/plain": [
       "False    82004\n",
       "True      8408\n",
       "Name: CVD, dtype: int64"
      ]
     },
     "execution_count": 79,
     "metadata": {},
     "output_type": "execute_result"
    }
   ],
   "source": [
    "df_clean['CVD'].value_counts()"
   ]
  },
  {
   "cell_type": "markdown",
   "metadata": {},
   "source": [
    "### Data Cleaning Saving Checkpoints"
   ]
  },
  {
   "cell_type": "markdown",
   "metadata": {},
   "source": [
    "Now we get some pretty clean data. The data only contains encodings that can be easily handled later. We can save this data first as a checkpoint so that subsequent pre-processing can simply load from this checkpoint."
   ]
  },
  {
   "cell_type": "code",
   "execution_count": 86,
   "metadata": {},
   "outputs": [],
   "source": [
    "df_clean.to_csv(\"./dataset/dataset_cp.csv\", index=False)"
   ]
  },
  {
   "cell_type": "code",
   "execution_count": 88,
   "metadata": {},
   "outputs": [
    {
     "name": "stdout",
     "output_type": "stream",
     "text": [
      "<class 'pandas.core.frame.DataFrame'>\n",
      "RangeIndex: 90412 entries, 0 to 90411\n",
      "Data columns (total 30 columns):\n",
      " #   Column    Non-Null Count  Dtype  \n",
      "---  ------    --------------  -----  \n",
      " 0   GENHLTH   90412 non-null  float64\n",
      " 1   PHYSHLTH  90412 non-null  float64\n",
      " 2   MENTHLTH  90412 non-null  float64\n",
      " 3   POORHLTH  90412 non-null  float64\n",
      " 4   CHECKUP1  90412 non-null  float64\n",
      " 5   EXERANY2  90412 non-null  float64\n",
      " 6   BPHIGH6   90412 non-null  float64\n",
      " 7   TOLDHI3   90412 non-null  float64\n",
      " 8   CVDINFR4  90412 non-null  float64\n",
      " 9   CVDCRHD4  90412 non-null  float64\n",
      " 10  CVDSTRK3  90412 non-null  float64\n",
      " 11  DIABETE4  90412 non-null  float64\n",
      " 12  _AGE80    90412 non-null  float64\n",
      " 13  WEIGHT2   90412 non-null  float64\n",
      " 14  HEIGHT3   90412 non-null  float64\n",
      " 15  SMOKE100  90412 non-null  float64\n",
      " 16  USENOW3   90412 non-null  float64\n",
      " 17  ECIGNOW1  90412 non-null  float64\n",
      " 18  ALCDAY5   90412 non-null  int64  \n",
      " 19  AVEDRNK3  90412 non-null  float64\n",
      " 20  DRNK3GE5  90412 non-null  float64\n",
      " 21  MAXDRNKS  90412 non-null  float64\n",
      " 22  FRUIT2    90412 non-null  float64\n",
      " 23  FRUITJU2  90412 non-null  float64\n",
      " 24  FVGREEN1  90412 non-null  float64\n",
      " 25  FRENCHF1  90412 non-null  float64\n",
      " 26  POTATOE1  90412 non-null  float64\n",
      " 27  VEGETAB2  90412 non-null  float64\n",
      " 28  SEXVAR    90412 non-null  float64\n",
      " 29  CVD       90412 non-null  bool   \n",
      "dtypes: bool(1), float64(28), int64(1)\n",
      "memory usage: 20.1 MB\n"
     ]
    }
   ],
   "source": [
    "temp = pd.read_csv(\"./dataset/dataset_cp.csv\")\n",
    "temp.info()"
   ]
  },
  {
   "cell_type": "markdown",
   "metadata": {},
   "source": [
    "## Save Final Clean Data"
   ]
  },
  {
   "cell_type": "markdown",
   "metadata": {},
   "source": [
    "At this point we have clean data that has been processed so that we can save the data into csv form."
   ]
  },
  {
   "cell_type": "code",
   "execution_count": null,
   "metadata": {},
   "outputs": [],
   "source": [
    "df_clean.to_csv(\"./dataset/dataset_final.csv\", index=False)"
   ]
  }
 ],
 "metadata": {
  "kernelspec": {
   "display_name": "ml-tf",
   "language": "python",
   "name": "python3"
  },
  "language_info": {
   "codemirror_mode": {
    "name": "ipython",
    "version": 3
   },
   "file_extension": ".py",
   "mimetype": "text/x-python",
   "name": "python",
   "nbconvert_exporter": "python",
   "pygments_lexer": "ipython3",
   "version": "3.9.17"
  }
 },
 "nbformat": 4,
 "nbformat_minor": 2
}
